{
 "cells": [
  {
   "cell_type": "markdown",
   "id": "b4aaab4b-a20e-44df-924e-d82f8a25fdba",
   "metadata": {
    "tags": []
   },
   "source": [
    "# Week 1\n",
    "\n",
    "- Calculate performance metrics of the model output compared to the truth values "
   ]
  },
  {
   "cell_type": "code",
   "execution_count": 45,
   "id": "de001a83-5fb1-4da8-b691-43493bc83c02",
   "metadata": {},
   "outputs": [],
   "source": [
    "import numpy as np\n",
    "from scipy import stats\n",
    "import pandas as pd\n",
    "import matplotlib.pyplot as plt\n",
    "import seaborn as sns\n",
    "\n",
    "\n",
    "sns.set_style(\"darkgrid\")"
   ]
  },
  {
   "cell_type": "code",
   "execution_count": 46,
   "id": "b33a1686-addd-4d75-bed5-f610c4e86329",
   "metadata": {},
   "outputs": [
    {
     "data": {
      "text/html": [
       "<div>\n",
       "<style scoped>\n",
       "    .dataframe tbody tr th:only-of-type {\n",
       "        vertical-align: middle;\n",
       "    }\n",
       "\n",
       "    .dataframe tbody tr th {\n",
       "        vertical-align: top;\n",
       "    }\n",
       "\n",
       "    .dataframe thead th {\n",
       "        text-align: right;\n",
       "    }\n",
       "</style>\n",
       "<table border=\"1\" class=\"dataframe\">\n",
       "  <thead>\n",
       "    <tr style=\"text-align: right;\">\n",
       "      <th></th>\n",
       "      <th>file</th>\n",
       "      <th>x1</th>\n",
       "      <th>x2</th>\n",
       "      <th>y1</th>\n",
       "      <th>y2</th>\n",
       "      <th>mask</th>\n",
       "      <th>date</th>\n",
       "      <th>start_time</th>\n",
       "      <th>frame no</th>\n",
       "      <th>quadrant</th>\n",
       "      <th>true_mask</th>\n",
       "    </tr>\n",
       "  </thead>\n",
       "  <tbody>\n",
       "    <tr>\n",
       "      <th>0</th>\n",
       "      <td>park-tests/converted/coverted_FRAMES/20210526_...</td>\n",
       "      <td>720</td>\n",
       "      <td>763</td>\n",
       "      <td>185</td>\n",
       "      <td>246</td>\n",
       "      <td>0</td>\n",
       "      <td>20210526</td>\n",
       "      <td>182313</td>\n",
       "      <td>1248</td>\n",
       "      <td>3</td>\n",
       "      <td>0</td>\n",
       "    </tr>\n",
       "    <tr>\n",
       "      <th>1</th>\n",
       "      <td>park-tests/converted/coverted_FRAMES/20210526_...</td>\n",
       "      <td>13</td>\n",
       "      <td>40</td>\n",
       "      <td>3</td>\n",
       "      <td>40</td>\n",
       "      <td>1</td>\n",
       "      <td>20210526</td>\n",
       "      <td>182313</td>\n",
       "      <td>4876</td>\n",
       "      <td>3</td>\n",
       "      <td>1</td>\n",
       "    </tr>\n",
       "    <tr>\n",
       "      <th>2</th>\n",
       "      <td>park-tests/converted/coverted_FRAMES/20210526_...</td>\n",
       "      <td>695</td>\n",
       "      <td>736</td>\n",
       "      <td>201</td>\n",
       "      <td>254</td>\n",
       "      <td>0</td>\n",
       "      <td>20210526</td>\n",
       "      <td>182313</td>\n",
       "      <td>4876</td>\n",
       "      <td>3</td>\n",
       "      <td>0</td>\n",
       "    </tr>\n",
       "    <tr>\n",
       "      <th>3</th>\n",
       "      <td>park-tests/converted/coverted_FRAMES/20210526_...</td>\n",
       "      <td>573</td>\n",
       "      <td>663</td>\n",
       "      <td>326</td>\n",
       "      <td>430</td>\n",
       "      <td>1</td>\n",
       "      <td>20210526</td>\n",
       "      <td>182313</td>\n",
       "      <td>4397</td>\n",
       "      <td>1</td>\n",
       "      <td>1</td>\n",
       "    </tr>\n",
       "    <tr>\n",
       "      <th>4</th>\n",
       "      <td>park-tests/converted/coverted_FRAMES/20210526_...</td>\n",
       "      <td>893</td>\n",
       "      <td>973</td>\n",
       "      <td>346</td>\n",
       "      <td>452</td>\n",
       "      <td>1</td>\n",
       "      <td>20210526</td>\n",
       "      <td>182313</td>\n",
       "      <td>4397</td>\n",
       "      <td>1</td>\n",
       "      <td>1</td>\n",
       "    </tr>\n",
       "  </tbody>\n",
       "</table>\n",
       "</div>"
      ],
      "text/plain": [
       "                                                file   x1   x2   y1   y2  \\\n",
       "0  park-tests/converted/coverted_FRAMES/20210526_...  720  763  185  246   \n",
       "1  park-tests/converted/coverted_FRAMES/20210526_...   13   40    3   40   \n",
       "2  park-tests/converted/coverted_FRAMES/20210526_...  695  736  201  254   \n",
       "3  park-tests/converted/coverted_FRAMES/20210526_...  573  663  326  430   \n",
       "4  park-tests/converted/coverted_FRAMES/20210526_...  893  973  346  452   \n",
       "\n",
       "   mask      date  start_time  frame no  quadrant  true_mask  \n",
       "0     0  20210526      182313      1248         3          0  \n",
       "1     1  20210526      182313      4876         3          1  \n",
       "2     0  20210526      182313      4876         3          0  \n",
       "3     1  20210526      182313      4397         1          1  \n",
       "4     1  20210526      182313      4397         1          1  "
      ]
     },
     "execution_count": 46,
     "metadata": {},
     "output_type": "execute_result"
    }
   ],
   "source": [
    "df_raw = pd.read_csv(\"helena_results.csv\")\n",
    "df_raw.head()"
   ]
  },
  {
   "cell_type": "code",
   "execution_count": 47,
   "id": "fc8a87f5-b8f7-4de4-8989-806229317e1c",
   "metadata": {},
   "outputs": [
    {
     "name": "stdout",
     "output_type": "stream",
     "text": [
      "<class 'pandas.core.frame.DataFrame'>\n",
      "RangeIndex: 1038 entries, 0 to 1037\n",
      "Data columns (total 11 columns):\n",
      " #   Column      Non-Null Count  Dtype \n",
      "---  ------      --------------  ----- \n",
      " 0   file        1038 non-null   object\n",
      " 1   x1          1038 non-null   int64 \n",
      " 2   x2          1038 non-null   int64 \n",
      " 3   y1          1038 non-null   int64 \n",
      " 4   y2          1038 non-null   int64 \n",
      " 5   mask        1038 non-null   int64 \n",
      " 6   date        1038 non-null   int64 \n",
      " 7   start_time  1038 non-null   int64 \n",
      " 8   frame no    1038 non-null   int64 \n",
      " 9   quadrant    1038 non-null   int64 \n",
      " 10  true_mask   1038 non-null   int64 \n",
      "dtypes: int64(10), object(1)\n",
      "memory usage: 89.3+ KB\n"
     ]
    }
   ],
   "source": [
    "df_raw.info()"
   ]
  },
  {
   "cell_type": "markdown",
   "id": "921a7b50-041e-47ae-a447-be9ecf98194c",
   "metadata": {
    "tags": []
   },
   "source": [
    "## Definitions\n",
    "**mask:** model output\n",
    "\n",
    "**true_mask:** true label (human labeled)\n",
    "\n",
    "- 0: mask\n",
    "- 1: no-mask\n",
    "- 2: false detection\n",
    "\n",
    "A **false detection** describes an instance where the model detected the ground, or other object, as a face."
   ]
  },
  {
   "cell_type": "markdown",
   "id": "1fdef372-656f-4554-860c-a087a2f96ec0",
   "metadata": {},
   "source": [
    "## Data Cleaning and Filtering"
   ]
  },
  {
   "cell_type": "code",
   "execution_count": 48,
   "id": "88acfea7-fafa-4c80-a4ef-44b4c0838351",
   "metadata": {},
   "outputs": [
    {
     "data": {
      "text/plain": [
       "0    707\n",
       "1    331\n",
       "Name: mask, dtype: int64"
      ]
     },
     "execution_count": 48,
     "metadata": {},
     "output_type": "execute_result"
    }
   ],
   "source": [
    "df_raw['mask'].value_counts()"
   ]
  },
  {
   "cell_type": "code",
   "execution_count": 49,
   "id": "62d54541-af35-4df9-a9cf-31e3d61a0518",
   "metadata": {},
   "outputs": [
    {
     "data": {
      "text/plain": [
       "1    530\n",
       "0    447\n",
       "2     61\n",
       "Name: true_mask, dtype: int64"
      ]
     },
     "execution_count": 49,
     "metadata": {},
     "output_type": "execute_result"
    }
   ],
   "source": [
    "df_raw['true_mask'].value_counts()"
   ]
  },
  {
   "cell_type": "code",
   "execution_count": 50,
   "id": "435b9744-b66d-445c-a359-0dd0c2e5d40d",
   "metadata": {},
   "outputs": [
    {
     "data": {
      "text/html": [
       "<div>\n",
       "<style scoped>\n",
       "    .dataframe tbody tr th:only-of-type {\n",
       "        vertical-align: middle;\n",
       "    }\n",
       "\n",
       "    .dataframe tbody tr th {\n",
       "        vertical-align: top;\n",
       "    }\n",
       "\n",
       "    .dataframe thead th {\n",
       "        text-align: right;\n",
       "    }\n",
       "</style>\n",
       "<table border=\"1\" class=\"dataframe\">\n",
       "  <thead>\n",
       "    <tr style=\"text-align: right;\">\n",
       "      <th>true_mask</th>\n",
       "      <th>0</th>\n",
       "      <th>1</th>\n",
       "      <th>2</th>\n",
       "      <th>All</th>\n",
       "    </tr>\n",
       "    <tr>\n",
       "      <th>mask</th>\n",
       "      <th></th>\n",
       "      <th></th>\n",
       "      <th></th>\n",
       "      <th></th>\n",
       "    </tr>\n",
       "  </thead>\n",
       "  <tbody>\n",
       "    <tr>\n",
       "      <th>0</th>\n",
       "      <td>357</td>\n",
       "      <td>302</td>\n",
       "      <td>48</td>\n",
       "      <td>707</td>\n",
       "    </tr>\n",
       "    <tr>\n",
       "      <th>1</th>\n",
       "      <td>90</td>\n",
       "      <td>228</td>\n",
       "      <td>13</td>\n",
       "      <td>331</td>\n",
       "    </tr>\n",
       "    <tr>\n",
       "      <th>All</th>\n",
       "      <td>447</td>\n",
       "      <td>530</td>\n",
       "      <td>61</td>\n",
       "      <td>1038</td>\n",
       "    </tr>\n",
       "  </tbody>\n",
       "</table>\n",
       "</div>"
      ],
      "text/plain": [
       "true_mask    0    1   2   All\n",
       "mask                         \n",
       "0          357  302  48   707\n",
       "1           90  228  13   331\n",
       "All        447  530  61  1038"
      ]
     },
     "execution_count": 50,
     "metadata": {},
     "output_type": "execute_result"
    }
   ],
   "source": [
    "pd.crosstab(df_raw['mask'], df_raw['true_mask'], margins=True)"
   ]
  },
  {
   "cell_type": "markdown",
   "id": "c1a34c7a-a55b-402d-87eb-c702f11bee12",
   "metadata": {
    "tags": []
   },
   "source": [
    "**Currently, the binary classes are 0 = mask, 1 = no_mask**\n",
    "\n",
    "**Want to invert these values so that 1 = mask, 0 = no_mask**\n",
    "\n",
    "**We will also filter out all rows where there was a false detection (true_mask = 2)**"
   ]
  },
  {
   "cell_type": "code",
   "execution_count": 51,
   "id": "95b51ca2-101f-47e5-a115-65e33f300c69",
   "metadata": {},
   "outputs": [],
   "source": [
    "# create a copy of the raw dataframe\n",
    "df_filtered = df_raw.copy()"
   ]
  },
  {
   "cell_type": "code",
   "execution_count": 52,
   "id": "271d45b4-b067-4475-972d-688e0e4becff",
   "metadata": {},
   "outputs": [
    {
     "data": {
      "text/plain": [
       "(977, 11)"
      ]
     },
     "execution_count": 52,
     "metadata": {},
     "output_type": "execute_result"
    }
   ],
   "source": [
    "# exclude false detections from this analysis\n",
    "df_filtered = df_filtered[df_filtered['true_mask'] < 2]\n",
    "df_filtered.shape"
   ]
  },
  {
   "cell_type": "code",
   "execution_count": 53,
   "id": "77db3261-3c4b-4ef8-a150-d3ab8891e2a9",
   "metadata": {},
   "outputs": [],
   "source": [
    "df_filtered['mask'] = np.where(df_filtered['mask'] == 1, 0, 1)\n",
    "df_filtered['true_mask'] = np.where(df_filtered['true_mask'] == 1, 0, 1)"
   ]
  },
  {
   "cell_type": "code",
   "execution_count": 54,
   "id": "2d3a1963-a3e0-4009-8162-8f2bd4acd120",
   "metadata": {},
   "outputs": [
    {
     "data": {
      "text/html": [
       "<div>\n",
       "<style scoped>\n",
       "    .dataframe tbody tr th:only-of-type {\n",
       "        vertical-align: middle;\n",
       "    }\n",
       "\n",
       "    .dataframe tbody tr th {\n",
       "        vertical-align: top;\n",
       "    }\n",
       "\n",
       "    .dataframe thead th {\n",
       "        text-align: right;\n",
       "    }\n",
       "</style>\n",
       "<table border=\"1\" class=\"dataframe\">\n",
       "  <thead>\n",
       "    <tr style=\"text-align: right;\">\n",
       "      <th>true_mask</th>\n",
       "      <th>0</th>\n",
       "      <th>1</th>\n",
       "      <th>All</th>\n",
       "    </tr>\n",
       "    <tr>\n",
       "      <th>mask</th>\n",
       "      <th></th>\n",
       "      <th></th>\n",
       "      <th></th>\n",
       "    </tr>\n",
       "  </thead>\n",
       "  <tbody>\n",
       "    <tr>\n",
       "      <th>0</th>\n",
       "      <td>228</td>\n",
       "      <td>90</td>\n",
       "      <td>318</td>\n",
       "    </tr>\n",
       "    <tr>\n",
       "      <th>1</th>\n",
       "      <td>302</td>\n",
       "      <td>357</td>\n",
       "      <td>659</td>\n",
       "    </tr>\n",
       "    <tr>\n",
       "      <th>All</th>\n",
       "      <td>530</td>\n",
       "      <td>447</td>\n",
       "      <td>977</td>\n",
       "    </tr>\n",
       "  </tbody>\n",
       "</table>\n",
       "</div>"
      ],
      "text/plain": [
       "true_mask    0    1  All\n",
       "mask                    \n",
       "0          228   90  318\n",
       "1          302  357  659\n",
       "All        530  447  977"
      ]
     },
     "execution_count": 54,
     "metadata": {},
     "output_type": "execute_result"
    }
   ],
   "source": [
    "pd.crosstab(df_filtered['mask'], df_filtered['true_mask'], margins=True)"
   ]
  },
  {
   "cell_type": "markdown",
   "id": "f6481c75-2c4d-4810-ad08-4b978df0933d",
   "metadata": {},
   "source": [
    "**As we can see, the mask and true mask classes are now inverted and ready for analysis**"
   ]
  },
  {
   "cell_type": "markdown",
   "id": "e3458faa-a04a-489b-b3f8-61455d31c4ed",
   "metadata": {},
   "source": [
    "## Metrics and Scoring"
   ]
  },
  {
   "cell_type": "code",
   "execution_count": 55,
   "id": "a987ae72-8396-4405-9081-374553e0f707",
   "metadata": {},
   "outputs": [],
   "source": [
    "from sklearn.metrics import confusion_matrix, accuracy_score, precision_score, recall_score, f1_score"
   ]
  },
  {
   "cell_type": "markdown",
   "id": "5d6a82b6-b50e-47d7-aca6-dde231611110",
   "metadata": {},
   "source": [
    "<div>\n",
    "<img src=\"Metrics/Sensitivityspecificity.png\" width=\"300\"/>\n",
    "<img src=\"Metrics/Precisionrecall.png\" width=\"300\"/>\n",
    "</div>"
   ]
  },
  {
   "cell_type": "markdown",
   "id": "8eee0892-bb30-4697-90f0-30a7171d1f84",
   "metadata": {},
   "source": [
    "- sensitivity = P(predicting mask | wearing mask)\n",
    "- specificity = P(preditcing no mask | not wearing mask)"
   ]
  },
  {
   "cell_type": "markdown",
   "id": "5b4a5d28-a513-49d4-a915-ee734223204f",
   "metadata": {},
   "source": [
    "As we can see from the image above, Sensitivity and Recall are the same metric\n",
    "\n",
    "**This analysis will be limited to the following metrics:**\n",
    "\n",
    "- Sensitivity \n",
    "- Specificity\n",
    "- Precision\n",
    "- Accuracy"
   ]
  },
  {
   "cell_type": "code",
   "execution_count": 56,
   "id": "e6159389-93a0-47ac-bfac-1dacef101909",
   "metadata": {},
   "outputs": [],
   "source": [
    "def sensitivity(y_true, y_pred):\n",
    "    tn, fp, fn, tp = confusion_matrix(y_true, y_pred).ravel()\n",
    "    return tp/(tp+fn)\n",
    "\n",
    "def specificity(y_true, y_pred):\n",
    "    tn, fp, fn, tp = confusion_matrix(y_true, y_pred).ravel()\n",
    "    return tn/(tn+fp)"
   ]
  },
  {
   "cell_type": "code",
   "execution_count": 57,
   "id": "939e6be2-f814-46bb-9c5d-1dc418bde700",
   "metadata": {},
   "outputs": [
    {
     "name": "stdout",
     "output_type": "stream",
     "text": [
      "sensitivity score: 0.7987\n",
      "specificity score: 0.4302\n",
      "precision score: 0.5417\n",
      "accuracy score: 0.5988\n"
     ]
    }
   ],
   "source": [
    "metric_functions = {'sensitivity': sensitivity, \n",
    "                    'specificity': specificity,\n",
    "                    'precision': precision_score,\n",
    "                    'accuracy': accuracy_score}\n",
    "\n",
    "metric_values = {}\n",
    "\n",
    "for metric in metric_functions:\n",
    "    score = metric_functions[metric](y_true=df_filtered['true_mask'], y_pred=df_filtered['mask'])\n",
    "    print(f'{metric} score: {round(score, 4)}')\n",
    "    metric_values[metric] = round(score, 4)"
   ]
  },
  {
   "cell_type": "markdown",
   "id": "b85d0eaf-04ef-47c9-b877-55a37182c7de",
   "metadata": {},
   "source": [
    "# Week 2\n",
    "\n",
    "- Calculate confidence intervals around these numbers\n",
    "- Two sample testing of accuracy metrics - testing specificity between different groups, p values \n",
    "- Look at different groups where the metrics are better/worse\n",
    "    - look for big spreads\n",
    "    \n",
    "- Nirmal - worked with Ted\n",
    "- Ted Morris (camera / robotics, etc)\n",
    "    - Camera has object detection capabilities\n",
    "    \n",
    "- Helena - worked with Catherine Zhao\n",
    "    - Graduated and developed NN\n",
    "    \n",
    "- Catherine Zhao\n",
    "    - Reach out to Catherine for training data / model code\n",
    "    - Hoping to get access to the code / training data\n",
    "    - Willing to put them on github with prof wolfson"
   ]
  },
  {
   "cell_type": "markdown",
   "id": "bd7ce07e-6234-4116-b4b2-7a98f795f514",
   "metadata": {},
   "source": [
    "## Exploration\n",
    "\n",
    "- explore rnn for image classification since it has a memory component and looks at multiple frames at once"
   ]
  },
  {
   "cell_type": "markdown",
   "id": "93e558f0-cb43-4085-a56b-649a6e827b0f",
   "metadata": {},
   "source": [
    "## Calculating confidence intervals around the metrics"
   ]
  },
  {
   "cell_type": "markdown",
   "id": "779cbb49-d0bd-4e66-9a58-3627d9d04ec2",
   "metadata": {},
   "source": [
    "### Z-score"
   ]
  },
  {
   "cell_type": "code",
   "execution_count": 58,
   "id": "9b5547cd-9914-4fad-99f2-4852bf582ed3",
   "metadata": {},
   "outputs": [],
   "source": [
    "def confidence_interval_z_score(n, metric):\n",
    "    # standard error\n",
    "    se = np.sqrt(metric * (1-metric) / n)\n",
    "    \n",
    "    # z score for 95% confidence interval\n",
    "    z = stats.norm.ppf(0.975)\n",
    "    \n",
    "    lower = metric - z*se\n",
    "    upper = metric + z*se\n",
    "    \n",
    "    return (round(lower, 4), round(upper, 4))"
   ]
  },
  {
   "cell_type": "code",
   "execution_count": 59,
   "id": "f977f2cc-10e6-4869-a25b-53a844d410de",
   "metadata": {},
   "outputs": [
    {
     "name": "stdout",
     "output_type": "stream",
     "text": [
      "95% confidence interval for the sensitivity of 0.7987 is: (0.7743, 0.8231) \n",
      "\n",
      "95% confidence interval for the specificity of 0.4302 is: (0.4001, 0.4603) \n",
      "\n",
      "95% confidence interval for the precision of 0.5417 is: (0.5114, 0.572) \n",
      "\n",
      "95% confidence interval for the accuracy of 0.5988 is: (0.569, 0.6286) \n",
      "\n"
     ]
    }
   ],
   "source": [
    "n = df_raw.shape[0]\n",
    "for metric in metric_values:\n",
    "    metric_value = metric_values[metric]\n",
    "    ci = confidence_interval_z_score(n, metric_value)\n",
    "    print(f'95% confidence interval for the {metric} of {metric_value} is: {ci} \\n')"
   ]
  },
  {
   "cell_type": "markdown",
   "id": "2ce93d20-dad0-4b7e-929f-3837e433bd7d",
   "metadata": {},
   "source": [
    "**Turns out, using the z score method for some metrics may not be adequate**\n",
    "\n",
    "Since the denominator is n, the number of records. This will work for something like the average (since the denominator is the same), but for metrics like specificity and sensitivity, the denominator isn't - so a method like bootstrapping will work better."
   ]
  },
  {
   "cell_type": "markdown",
   "id": "3134ddee-25aa-4120-b34a-7fa48bef621e",
   "metadata": {},
   "source": [
    "### Bootstrapping"
   ]
  },
  {
   "cell_type": "code",
   "execution_count": 60,
   "id": "8f4e25cd-78aa-4073-b859-2fcc03c6c94c",
   "metadata": {},
   "outputs": [],
   "source": [
    "from sklearn.utils import resample\n",
    "\n",
    "def confidence_interval_bootstrapping(y_true, y_pred, metric_function, n_iterations=100, alpha=0.05):\n",
    "    \n",
    "    metric_samples = []\n",
    "    \n",
    "    for i in range(n_iterations):\n",
    "        y_true_resample, y_pred_resample = resample(y_true, y_pred)\n",
    "        metric_resample = metric_function(y_true_resample, y_pred_resample)\n",
    "        metric_samples.append(metric_resample)\n",
    "        \n",
    "    lower = np.percentile(metric_samples, alpha/2*100)\n",
    "    upper = np.percentile(metric_samples, (1-alpha/2)*100)\n",
    "    \n",
    "    return (round(lower, 4), round(upper, 4))\n",
    "\n",
    "def get_bootstrapping_ci(df):\n",
    "    \n",
    "    mask_true = df['true_mask']\n",
    "    mask_pred = df['mask']\n",
    "    \n",
    "    metrics_ci = {'Metric': [],\n",
    "                  'Score': [],\n",
    "                  'Lower bound': [],\n",
    "                  'Upper bound': [],\n",
    "                  'Error': []}\n",
    "    \n",
    "    metric_functions = {'sensitivity': sensitivity, \n",
    "                        'specificity': specificity,\n",
    "                        'precision': precision_score,\n",
    "                        'accuracy': accuracy_score}\n",
    "\n",
    "    metric_values = {}\n",
    "\n",
    "    for metric in metric_functions:\n",
    "        metrics_ci['Metric'].append(metric)\n",
    "\n",
    "        metric_value = metric_functions[metric](y_true=mask_true, y_pred=mask_pred)\n",
    "        metric_value = round(metric_value, 4)\n",
    "        metrics_ci['Score'].append(metric_value)\n",
    "\n",
    "        ci = confidence_interval_bootstrapping(mask_true, mask_pred, metric_functions[metric])\n",
    "        metrics_ci['Lower bound'].append(ci[0])\n",
    "        metrics_ci['Upper bound'].append(ci[1])\n",
    "        \n",
    "        metrics_ci['Error'].append((round(metric_value-ci[0], 4), round(ci[1]-metric_value, 4)))\n",
    "    \n",
    "    return pd.DataFrame(metrics_ci)\n",
    "    \n",
    "    "
   ]
  },
  {
   "cell_type": "code",
   "execution_count": 61,
   "id": "40443f83-ecce-43fd-9eb6-32d7c50895c1",
   "metadata": {},
   "outputs": [],
   "source": [
    "# list to hold dataframes containing metrics from different groups\n",
    "df_groups = []"
   ]
  },
  {
   "cell_type": "code",
   "execution_count": 62,
   "id": "e10414cc-b46f-498d-824a-9f27ceffc6e7",
   "metadata": {},
   "outputs": [
    {
     "name": "stdout",
     "output_type": "stream",
     "text": [
      "Metrics for all groups:\n",
      "\n"
     ]
    },
    {
     "data": {
      "text/html": [
       "<div>\n",
       "<style scoped>\n",
       "    .dataframe tbody tr th:only-of-type {\n",
       "        vertical-align: middle;\n",
       "    }\n",
       "\n",
       "    .dataframe tbody tr th {\n",
       "        vertical-align: top;\n",
       "    }\n",
       "\n",
       "    .dataframe thead th {\n",
       "        text-align: right;\n",
       "    }\n",
       "</style>\n",
       "<table border=\"1\" class=\"dataframe\">\n",
       "  <thead>\n",
       "    <tr style=\"text-align: right;\">\n",
       "      <th></th>\n",
       "      <th>Metric</th>\n",
       "      <th>Score</th>\n",
       "      <th>Lower bound</th>\n",
       "      <th>Upper bound</th>\n",
       "    </tr>\n",
       "  </thead>\n",
       "  <tbody>\n",
       "    <tr>\n",
       "      <th>0</th>\n",
       "      <td>sensitivity</td>\n",
       "      <td>0.7987</td>\n",
       "      <td>0.7678</td>\n",
       "      <td>0.8311</td>\n",
       "    </tr>\n",
       "    <tr>\n",
       "      <th>1</th>\n",
       "      <td>specificity</td>\n",
       "      <td>0.4302</td>\n",
       "      <td>0.3994</td>\n",
       "      <td>0.4700</td>\n",
       "    </tr>\n",
       "    <tr>\n",
       "      <th>2</th>\n",
       "      <td>precision</td>\n",
       "      <td>0.5417</td>\n",
       "      <td>0.5045</td>\n",
       "      <td>0.5766</td>\n",
       "    </tr>\n",
       "    <tr>\n",
       "      <th>3</th>\n",
       "      <td>accuracy</td>\n",
       "      <td>0.5988</td>\n",
       "      <td>0.5659</td>\n",
       "      <td>0.6301</td>\n",
       "    </tr>\n",
       "  </tbody>\n",
       "</table>\n",
       "</div>"
      ],
      "text/plain": [
       "        Metric   Score  Lower bound  Upper bound\n",
       "0  sensitivity  0.7987       0.7678       0.8311\n",
       "1  specificity  0.4302       0.3994       0.4700\n",
       "2    precision  0.5417       0.5045       0.5766\n",
       "3     accuracy  0.5988       0.5659       0.6301"
      ]
     },
     "execution_count": 62,
     "metadata": {},
     "output_type": "execute_result"
    }
   ],
   "source": [
    "metrics_df = get_bootstrapping_ci(df_filtered)\n",
    "metrics_df['Group'] = 'All'\n",
    "df_groups.append(metrics_df)\n",
    "\n",
    "print(\"Metrics for all groups:\\n\")\n",
    "metrics_df[['Metric', 'Score', 'Lower bound', 'Upper bound']]"
   ]
  },
  {
   "cell_type": "markdown",
   "id": "b7654cf7-2c4c-429e-9c91-a36aabf24706",
   "metadata": {},
   "source": [
    "# Week 3\n",
    "- Look into bootstrap pros and cons\n",
    "- Get this in a table for now\n",
    "- For future - look at sub groups - plot on same plot\n",
    "- Gor now, stick with metrics like sensitivity and specificity since they don't depend on prevalance of the event\n",
    "- Meet with ted and nermel"
   ]
  },
  {
   "cell_type": "markdown",
   "id": "20fc3f37-4c12-496f-81f1-af037ef77d59",
   "metadata": {},
   "source": [
    "## Comparing metric scores across groups"
   ]
  },
  {
   "cell_type": "markdown",
   "id": "a95ce941-9ac1-4412-8d5b-12514c9bca36",
   "metadata": {},
   "source": [
    "### Frame Quadrants"
   ]
  },
  {
   "cell_type": "code",
   "execution_count": 63,
   "id": "41f2cbc9-0d7e-4761-99e6-838faf00c780",
   "metadata": {},
   "outputs": [
    {
     "data": {
      "text/plain": [
       "1    534\n",
       "3    443\n",
       "Name: quadrant, dtype: int64"
      ]
     },
     "execution_count": 63,
     "metadata": {},
     "output_type": "execute_result"
    }
   ],
   "source": [
    "df_filtered['quadrant'].value_counts()"
   ]
  },
  {
   "cell_type": "markdown",
   "id": "381805ec-d22c-4c7c-b58f-136d281016bf",
   "metadata": {},
   "source": [
    "#### After filtering data, all bounding boxes in quadrants 1 and 3"
   ]
  },
  {
   "cell_type": "code",
   "execution_count": 64,
   "id": "427d1587-64ed-4d75-9ef6-b8d877527e41",
   "metadata": {},
   "outputs": [
    {
     "data": {
      "text/html": [
       "<div>\n",
       "<style scoped>\n",
       "    .dataframe tbody tr th:only-of-type {\n",
       "        vertical-align: middle;\n",
       "    }\n",
       "\n",
       "    .dataframe tbody tr th {\n",
       "        vertical-align: top;\n",
       "    }\n",
       "\n",
       "    .dataframe thead th {\n",
       "        text-align: right;\n",
       "    }\n",
       "</style>\n",
       "<table border=\"1\" class=\"dataframe\">\n",
       "  <thead>\n",
       "    <tr style=\"text-align: right;\">\n",
       "      <th>quadrant</th>\n",
       "      <th>1</th>\n",
       "      <th>3</th>\n",
       "      <th>All</th>\n",
       "    </tr>\n",
       "    <tr>\n",
       "      <th>mask</th>\n",
       "      <th></th>\n",
       "      <th></th>\n",
       "      <th></th>\n",
       "    </tr>\n",
       "  </thead>\n",
       "  <tbody>\n",
       "    <tr>\n",
       "      <th>0</th>\n",
       "      <td>225</td>\n",
       "      <td>93</td>\n",
       "      <td>318</td>\n",
       "    </tr>\n",
       "    <tr>\n",
       "      <th>1</th>\n",
       "      <td>309</td>\n",
       "      <td>350</td>\n",
       "      <td>659</td>\n",
       "    </tr>\n",
       "    <tr>\n",
       "      <th>All</th>\n",
       "      <td>534</td>\n",
       "      <td>443</td>\n",
       "      <td>977</td>\n",
       "    </tr>\n",
       "  </tbody>\n",
       "</table>\n",
       "</div>"
      ],
      "text/plain": [
       "quadrant    1    3  All\n",
       "mask                   \n",
       "0         225   93  318\n",
       "1         309  350  659\n",
       "All       534  443  977"
      ]
     },
     "execution_count": 64,
     "metadata": {},
     "output_type": "execute_result"
    }
   ],
   "source": [
    "pd.crosstab(df_filtered['mask'], df_filtered['quadrant'], margins=True)"
   ]
  },
  {
   "cell_type": "code",
   "execution_count": 65,
   "id": "c7b55650-a183-4f04-85f8-e1afb6a649d0",
   "metadata": {},
   "outputs": [
    {
     "data": {
      "image/png": "[encoded data removed]",
      "text/plain": [
       "<Figure size 640x480 with 1 Axes>"
      ]
     },
     "metadata": {},
     "output_type": "display_data"
    }
   ],
   "source": [
    "pd.crosstab(df_filtered['mask'], df_filtered['quadrant'], normalize='index').plot.bar(stacked=True)\n",
    "plt.show()"
   ]
  },
  {
   "cell_type": "markdown",
   "id": "d074e734-dd37-434f-9461-9d14fd9ff878",
   "metadata": {
    "tags": []
   },
   "source": [
    "#### Most no-mask detections (mask = 0) were found in quadrant 1"
   ]
  },
  {
   "cell_type": "markdown",
   "id": "0948ca8b-881d-4c58-bde1-e19fddf5d038",
   "metadata": {},
   "source": [
    "- Quadrant 1 contains 534/977 ~ 55% of records"
   ]
  },
  {
   "cell_type": "code",
   "execution_count": 66,
   "id": "28561d0d-5c0d-4a9b-b4a9-2ef8e4a5e77a",
   "metadata": {},
   "outputs": [],
   "source": [
    "df_q1 = df_filtered[df_filtered['quadrant'] == 1]\n",
    "metrics_df_q1 = get_bootstrapping_ci(df_q1)\n",
    "metrics_df_q1['Group'] = 'Q1'\n",
    "df_groups.append(metrics_df_q1)"
   ]
  },
  {
   "cell_type": "markdown",
   "id": "1fd7bfe2-2260-43fb-aac2-07b9f3509dcc",
   "metadata": {
    "tags": []
   },
   "source": [
    "#### Most mask detections (mask = 1) were found in quadrant 3"
   ]
  },
  {
   "cell_type": "markdown",
   "id": "95eaa973-9dce-45a1-a430-f2aeb2c8ae57",
   "metadata": {},
   "source": [
    "- Quadrant 3 contains 443/977 ~ 45% of records"
   ]
  },
  {
   "cell_type": "code",
   "execution_count": 67,
   "id": "1806f62d-d8d4-4ffc-af94-70cdc7522b54",
   "metadata": {},
   "outputs": [],
   "source": [
    "df_q3 = df_filtered[df_filtered['quadrant'] == 3]\n",
    "metrics_df_q3 = get_bootstrapping_ci(df_q3)\n",
    "metrics_df_q3['Group'] = 'Q3'\n",
    "df_groups.append(metrics_df_q3)"
   ]
  },
  {
   "cell_type": "markdown",
   "id": "4ff77f87-e662-41cf-a12a-dcf7bf94a14e",
   "metadata": {},
   "source": [
    "#### Comparing Quadrants"
   ]
  },
  {
   "cell_type": "code",
   "execution_count": 68,
   "id": "c93cb1db-07c1-4047-89cf-7f5bb0839d92",
   "metadata": {},
   "outputs": [
    {
     "data": {
      "image/png": "[encoded data removed]",
      "text/plain": [
       "<Figure size 1000x1000 with 4 Axes>"
      ]
     },
     "metadata": {},
     "output_type": "display_data"
    }
   ],
   "source": [
    "df_concat = pd.concat(df_groups, ignore_index=True)\n",
    "\n",
    "fig, ax = plt.subplots(2, 2, figsize=(10, 10))\n",
    "axs = np.array(ax).flatten()\n",
    "i = 0\n",
    "\n",
    "for metric in metric_functions:\n",
    "    df_metric = df_concat[df_concat['Metric'] == metric]\n",
    "    df_metric.reset_index(drop=True, inplace=True)\n",
    "    \n",
    "    sns.barplot(data=df_metric, x='Group', y='Score', alpha=0.1, ax=axs[i])\n",
    "    y_error = np.array(list(df_metric['Error'])).T\n",
    "    axs[i].errorbar(x=df_metric.index, y=df_metric['Score'], yerr=y_error, fmt='o', ecolor='black', color='black', capsize=6)\n",
    "    \n",
    "    axs[i].set_xlabel('')\n",
    "    axs[i].set_ylabel(metric, fontweight='bold')\n",
    "    i += 1\n",
    "\n",
    "plt.setp(ax, ylim=[0, 1.1])\n",
    "plt.show()"
   ]
  },
  {
   "cell_type": "markdown",
   "id": "d44dcb12-4910-4378-bb2c-16942ad4737a",
   "metadata": {
    "tags": []
   },
   "source": [
    "### Exploring Dates"
   ]
  },
  {
   "cell_type": "code",
   "execution_count": 69,
   "id": "0ac399a1-27d2-42d9-bb84-f87e3cbdf03d",
   "metadata": {},
   "outputs": [
    {
     "data": {
      "text/plain": [
       "Index(['file', 'x1', 'x2', 'y1', 'y2', 'mask', 'date', 'start_time',\n",
       "       'frame no', 'quadrant', 'true_mask'],\n",
       "      dtype='object')"
      ]
     },
     "execution_count": 69,
     "metadata": {},
     "output_type": "execute_result"
    }
   ],
   "source": [
    "df_filtered.columns"
   ]
  },
  {
   "cell_type": "code",
   "execution_count": 70,
   "id": "b91468f2-39fb-4211-a015-9bbd37115832",
   "metadata": {},
   "outputs": [
    {
     "data": {
      "text/plain": [
       "(977, 11)"
      ]
     },
     "execution_count": 70,
     "metadata": {},
     "output_type": "execute_result"
    }
   ],
   "source": [
    "df_filtered.shape"
   ]
  },
  {
   "cell_type": "code",
   "execution_count": 71,
   "id": "9a7a510e-e9fc-4412-9af1-1f6c9fb1dd2c",
   "metadata": {},
   "outputs": [
    {
     "data": {
      "text/plain": [
       "20210526    762\n",
       "20210614    186\n",
       "20210618     29\n",
       "Name: date, dtype: int64"
      ]
     },
     "execution_count": 71,
     "metadata": {},
     "output_type": "execute_result"
    }
   ],
   "source": [
    "df_filtered['date'].value_counts()"
   ]
  },
  {
   "cell_type": "code",
   "execution_count": 72,
   "id": "80deda04-2785-4e5f-b81f-990beeacee9c",
   "metadata": {},
   "outputs": [
    {
     "data": {
      "text/plain": [
       "182313    570\n",
       "154716    186\n",
       "163653    112\n",
       "170716     41\n",
       "165204     39\n",
       "151458     29\n",
       "Name: start_time, dtype: int64"
      ]
     },
     "execution_count": 72,
     "metadata": {},
     "output_type": "execute_result"
    }
   ],
   "source": [
    "df_filtered['start_time'].value_counts()"
   ]
  },
  {
   "cell_type": "code",
   "execution_count": 73,
   "id": "f2562886-7c23-4863-a924-df3029ef651e",
   "metadata": {},
   "outputs": [
    {
     "data": {
      "text/html": [
       "<div>\n",
       "<style scoped>\n",
       "    .dataframe tbody tr th:only-of-type {\n",
       "        vertical-align: middle;\n",
       "    }\n",
       "\n",
       "    .dataframe tbody tr th {\n",
       "        vertical-align: top;\n",
       "    }\n",
       "\n",
       "    .dataframe thead th {\n",
       "        text-align: right;\n",
       "    }\n",
       "</style>\n",
       "<table border=\"1\" class=\"dataframe\">\n",
       "  <thead>\n",
       "    <tr style=\"text-align: right;\">\n",
       "      <th>date</th>\n",
       "      <th>20210526</th>\n",
       "      <th>20210614</th>\n",
       "      <th>20210618</th>\n",
       "      <th>Total</th>\n",
       "    </tr>\n",
       "    <tr>\n",
       "      <th>start_time</th>\n",
       "      <th></th>\n",
       "      <th></th>\n",
       "      <th></th>\n",
       "      <th></th>\n",
       "    </tr>\n",
       "  </thead>\n",
       "  <tbody>\n",
       "    <tr>\n",
       "      <th>151458</th>\n",
       "      <td>0</td>\n",
       "      <td>0</td>\n",
       "      <td>29</td>\n",
       "      <td>29</td>\n",
       "    </tr>\n",
       "    <tr>\n",
       "      <th>154716</th>\n",
       "      <td>0</td>\n",
       "      <td>186</td>\n",
       "      <td>0</td>\n",
       "      <td>186</td>\n",
       "    </tr>\n",
       "    <tr>\n",
       "      <th>163653</th>\n",
       "      <td>112</td>\n",
       "      <td>0</td>\n",
       "      <td>0</td>\n",
       "      <td>112</td>\n",
       "    </tr>\n",
       "    <tr>\n",
       "      <th>165204</th>\n",
       "      <td>39</td>\n",
       "      <td>0</td>\n",
       "      <td>0</td>\n",
       "      <td>39</td>\n",
       "    </tr>\n",
       "    <tr>\n",
       "      <th>170716</th>\n",
       "      <td>41</td>\n",
       "      <td>0</td>\n",
       "      <td>0</td>\n",
       "      <td>41</td>\n",
       "    </tr>\n",
       "    <tr>\n",
       "      <th>182313</th>\n",
       "      <td>570</td>\n",
       "      <td>0</td>\n",
       "      <td>0</td>\n",
       "      <td>570</td>\n",
       "    </tr>\n",
       "    <tr>\n",
       "      <th>Total</th>\n",
       "      <td>762</td>\n",
       "      <td>186</td>\n",
       "      <td>29</td>\n",
       "      <td>977</td>\n",
       "    </tr>\n",
       "  </tbody>\n",
       "</table>\n",
       "</div>"
      ],
      "text/plain": [
       "date        20210526  20210614  20210618  Total\n",
       "start_time                                     \n",
       "151458             0         0        29     29\n",
       "154716             0       186         0    186\n",
       "163653           112         0         0    112\n",
       "165204            39         0         0     39\n",
       "170716            41         0         0     41\n",
       "182313           570         0         0    570\n",
       "Total            762       186        29    977"
      ]
     },
     "execution_count": 73,
     "metadata": {},
     "output_type": "execute_result"
    }
   ],
   "source": [
    "pd.crosstab(df_filtered['start_time'], df_filtered['date'], margins=True, margins_name='Total')"
   ]
  },
  {
   "cell_type": "markdown",
   "id": "ca93fedf-4dc2-4e08-a8cc-a79f668363fd",
   "metadata": {},
   "source": [
    "- **Three days are present in the filtered dataset.**\n",
    "- **Six start times are present in the filtered dataset, with 20210526 being the only date with more than one start time.**"
   ]
  },
  {
   "cell_type": "code",
   "execution_count": 74,
   "id": "4820d367-4651-4841-a35e-668d07fef495",
   "metadata": {},
   "outputs": [
    {
     "data": {
      "text/html": [
       "<div>\n",
       "<style scoped>\n",
       "    .dataframe tbody tr th:only-of-type {\n",
       "        vertical-align: middle;\n",
       "    }\n",
       "\n",
       "    .dataframe tbody tr th {\n",
       "        vertical-align: top;\n",
       "    }\n",
       "\n",
       "    .dataframe thead th {\n",
       "        text-align: right;\n",
       "    }\n",
       "</style>\n",
       "<table border=\"1\" class=\"dataframe\">\n",
       "  <thead>\n",
       "    <tr style=\"text-align: right;\">\n",
       "      <th>date</th>\n",
       "      <th>20210526</th>\n",
       "      <th>20210614</th>\n",
       "      <th>20210618</th>\n",
       "      <th>Total</th>\n",
       "    </tr>\n",
       "    <tr>\n",
       "      <th>mask</th>\n",
       "      <th></th>\n",
       "      <th></th>\n",
       "      <th></th>\n",
       "      <th></th>\n",
       "    </tr>\n",
       "  </thead>\n",
       "  <tbody>\n",
       "    <tr>\n",
       "      <th>0</th>\n",
       "      <td>256</td>\n",
       "      <td>48</td>\n",
       "      <td>14</td>\n",
       "      <td>318</td>\n",
       "    </tr>\n",
       "    <tr>\n",
       "      <th>1</th>\n",
       "      <td>506</td>\n",
       "      <td>138</td>\n",
       "      <td>15</td>\n",
       "      <td>659</td>\n",
       "    </tr>\n",
       "    <tr>\n",
       "      <th>Total</th>\n",
       "      <td>762</td>\n",
       "      <td>186</td>\n",
       "      <td>29</td>\n",
       "      <td>977</td>\n",
       "    </tr>\n",
       "  </tbody>\n",
       "</table>\n",
       "</div>"
      ],
      "text/plain": [
       "date   20210526  20210614  20210618  Total\n",
       "mask                                      \n",
       "0           256        48        14    318\n",
       "1           506       138        15    659\n",
       "Total       762       186        29    977"
      ]
     },
     "execution_count": 74,
     "metadata": {},
     "output_type": "execute_result"
    }
   ],
   "source": [
    "pd.crosstab(df_filtered['mask'], df_filtered['date'], margins=True, margins_name='Total')"
   ]
  },
  {
   "cell_type": "code",
   "execution_count": 75,
   "id": "fbf0e51c-945e-41ce-8c2d-db669aac4d84",
   "metadata": {},
   "outputs": [
    {
     "data": {
      "text/html": [
       "<div>\n",
       "<style scoped>\n",
       "    .dataframe tbody tr th:only-of-type {\n",
       "        vertical-align: middle;\n",
       "    }\n",
       "\n",
       "    .dataframe tbody tr th {\n",
       "        vertical-align: top;\n",
       "    }\n",
       "\n",
       "    .dataframe thead th {\n",
       "        text-align: right;\n",
       "    }\n",
       "</style>\n",
       "<table border=\"1\" class=\"dataframe\">\n",
       "  <thead>\n",
       "    <tr style=\"text-align: right;\">\n",
       "      <th>date</th>\n",
       "      <th>20210526</th>\n",
       "      <th>20210614</th>\n",
       "      <th>20210618</th>\n",
       "      <th>Total</th>\n",
       "    </tr>\n",
       "    <tr>\n",
       "      <th>true_mask</th>\n",
       "      <th></th>\n",
       "      <th></th>\n",
       "      <th></th>\n",
       "      <th></th>\n",
       "    </tr>\n",
       "  </thead>\n",
       "  <tbody>\n",
       "    <tr>\n",
       "      <th>0</th>\n",
       "      <td>355</td>\n",
       "      <td>158</td>\n",
       "      <td>17</td>\n",
       "      <td>530</td>\n",
       "    </tr>\n",
       "    <tr>\n",
       "      <th>1</th>\n",
       "      <td>407</td>\n",
       "      <td>28</td>\n",
       "      <td>12</td>\n",
       "      <td>447</td>\n",
       "    </tr>\n",
       "    <tr>\n",
       "      <th>Total</th>\n",
       "      <td>762</td>\n",
       "      <td>186</td>\n",
       "      <td>29</td>\n",
       "      <td>977</td>\n",
       "    </tr>\n",
       "  </tbody>\n",
       "</table>\n",
       "</div>"
      ],
      "text/plain": [
       "date       20210526  20210614  20210618  Total\n",
       "true_mask                                     \n",
       "0               355       158        17    530\n",
       "1               407        28        12    447\n",
       "Total           762       186        29    977"
      ]
     },
     "execution_count": 75,
     "metadata": {},
     "output_type": "execute_result"
    }
   ],
   "source": [
    "pd.crosstab(df_filtered['true_mask'], df_filtered['date'], margins=True, margins_name='Total')"
   ]
  },
  {
   "cell_type": "code",
   "execution_count": 76,
   "id": "3c85f251-8789-4dfa-928f-0383d62d77e6",
   "metadata": {},
   "outputs": [
    {
     "data": {
      "image/png": "[encoded data removed]",
      "text/plain": [
       "<Figure size 640x480 with 1 Axes>"
      ]
     },
     "metadata": {},
     "output_type": "display_data"
    }
   ],
   "source": [
    "pd.crosstab(df_filtered['date'], df_filtered['mask'], normalize='index').plot.bar(stacked=True)\n",
    "plt.show()"
   ]
  },
  {
   "cell_type": "markdown",
   "id": "e4973788-7b16-4f6b-a2c2-908c9cf16a7b",
   "metadata": {},
   "source": [
    "#### Date Analysis\n",
    "\n",
    "- 2021 05 26\n",
    "    - 65-35 split mask-no_mask\n",
    "- 2021 06 14 \n",
    "    - 70-30 split mask-no_mask\n",
    "- 2021 06 18 \n",
    "     - 50-50 split mask-no_mask"
   ]
  },
  {
   "cell_type": "code",
   "execution_count": 77,
   "id": "3a435b6a-1124-41f7-8381-8ad08a8b9208",
   "metadata": {},
   "outputs": [],
   "source": [
    "# reset groups df\n",
    "df_groups = [metrics_df]"
   ]
  },
  {
   "cell_type": "code",
   "execution_count": 78,
   "id": "e4aeaa89-049a-44c1-b838-088b15902329",
   "metadata": {},
   "outputs": [],
   "source": [
    "df_20210526 = df_filtered[df_filtered['date'] == 20210526]\n",
    "metrics_df_20210526 = get_bootstrapping_ci(df_20210526)\n",
    "metrics_df_20210526['Group'] = '20210526'\n",
    "df_groups.append(metrics_df_20210526)"
   ]
  },
  {
   "cell_type": "code",
   "execution_count": 79,
   "id": "f1c0352b-aebe-4dc1-9a89-d72e05b21b45",
   "metadata": {},
   "outputs": [],
   "source": [
    "df_20210614 = df_filtered[df_filtered['date'] == 20210614]\n",
    "metrics_df_20210614 = get_bootstrapping_ci(df_20210614)\n",
    "metrics_df_20210614['Group'] = '20210614'\n",
    "df_groups.append(metrics_df_20210614)"
   ]
  },
  {
   "cell_type": "code",
   "execution_count": 80,
   "id": "c9b97e0d-0970-4b68-b3e9-166b711384c0",
   "metadata": {},
   "outputs": [],
   "source": [
    "df_20210618 = df_filtered[df_filtered['date'] == 20210618]\n",
    "metrics_df_20210618 = get_bootstrapping_ci(df_20210618)\n",
    "metrics_df_20210618['Group'] = '20210618'\n",
    "df_groups.append(metrics_df_20210618)"
   ]
  },
  {
   "cell_type": "markdown",
   "id": "3f53d834-7ae6-4f75-b5df-70fcab1b87a7",
   "metadata": {},
   "source": [
    "#### Comparing Dates"
   ]
  },
  {
   "cell_type": "code",
   "execution_count": 81,
   "id": "d509c662-11ae-47ce-882d-93f92be5481f",
   "metadata": {},
   "outputs": [
    {
     "data": {
      "text/html": [
       "<div>\n",
       "<style scoped>\n",
       "    .dataframe tbody tr th:only-of-type {\n",
       "        vertical-align: middle;\n",
       "    }\n",
       "\n",
       "    .dataframe tbody tr th {\n",
       "        vertical-align: top;\n",
       "    }\n",
       "\n",
       "    .dataframe thead th {\n",
       "        text-align: right;\n",
       "    }\n",
       "</style>\n",
       "<table border=\"1\" class=\"dataframe\">\n",
       "  <thead>\n",
       "    <tr style=\"text-align: right;\">\n",
       "      <th></th>\n",
       "      <th>Metric</th>\n",
       "      <th>Score</th>\n",
       "      <th>Lower bound</th>\n",
       "      <th>Upper bound</th>\n",
       "      <th>Error</th>\n",
       "      <th>Group</th>\n",
       "    </tr>\n",
       "  </thead>\n",
       "  <tbody>\n",
       "    <tr>\n",
       "      <th>3</th>\n",
       "      <td>accuracy</td>\n",
       "      <td>0.5988</td>\n",
       "      <td>0.5659</td>\n",
       "      <td>0.6301</td>\n",
       "      <td>(0.0329, 0.0313)</td>\n",
       "      <td>All</td>\n",
       "    </tr>\n",
       "    <tr>\n",
       "      <th>7</th>\n",
       "      <td>accuracy</td>\n",
       "      <td>0.6549</td>\n",
       "      <td>0.6259</td>\n",
       "      <td>0.6870</td>\n",
       "      <td>(0.029, 0.0321)</td>\n",
       "      <td>20210526</td>\n",
       "    </tr>\n",
       "    <tr>\n",
       "      <th>11</th>\n",
       "      <td>accuracy</td>\n",
       "      <td>0.3871</td>\n",
       "      <td>0.3198</td>\n",
       "      <td>0.4573</td>\n",
       "      <td>(0.0673, 0.0702)</td>\n",
       "      <td>20210614</td>\n",
       "    </tr>\n",
       "    <tr>\n",
       "      <th>15</th>\n",
       "      <td>accuracy</td>\n",
       "      <td>0.4828</td>\n",
       "      <td>0.3103</td>\n",
       "      <td>0.6552</td>\n",
       "      <td>(0.1725, 0.1724)</td>\n",
       "      <td>20210618</td>\n",
       "    </tr>\n",
       "  </tbody>\n",
       "</table>\n",
       "</div>"
      ],
      "text/plain": [
       "      Metric   Score  Lower bound  Upper bound             Error     Group\n",
       "3   accuracy  0.5988       0.5659       0.6301  (0.0329, 0.0313)       All\n",
       "7   accuracy  0.6549       0.6259       0.6870   (0.029, 0.0321)  20210526\n",
       "11  accuracy  0.3871       0.3198       0.4573  (0.0673, 0.0702)  20210614\n",
       "15  accuracy  0.4828       0.3103       0.6552  (0.1725, 0.1724)  20210618"
      ]
     },
     "execution_count": 81,
     "metadata": {},
     "output_type": "execute_result"
    }
   ],
   "source": [
    "df_concat = pd.concat(df_groups, ignore_index=True)\n",
    "df_concat[df_concat['Metric'] == 'accuracy']"
   ]
  },
  {
   "cell_type": "code",
   "execution_count": 82,
   "id": "8caa718f-ef5f-4147-aa03-2f6551bc28be",
   "metadata": {},
   "outputs": [
    {
     "data": {
      "image/png": "[encoded data removed]",
      "text/plain": [
       "<Figure size 1000x1000 with 4 Axes>"
      ]
     },
     "metadata": {},
     "output_type": "display_data"
    }
   ],
   "source": [
    "fig, ax = plt.subplots(2, 2, figsize=(10, 10))\n",
    "axs = np.array(ax).flatten()\n",
    "i = 0\n",
    "\n",
    "for metric in metric_functions:\n",
    "    df_metric = df_concat[df_concat['Metric'] == metric]\n",
    "    df_metric.reset_index(drop=True, inplace=True)\n",
    "    \n",
    "    sns.barplot(data=df_metric, x='Group', y='Score', alpha=0.1, ax=axs[i])\n",
    "    y_error = np.array(list(df_metric['Error'])).T\n",
    "    axs[i].errorbar(x=df_metric.index, y=df_metric['Score'], yerr=y_error, fmt='o', ecolor='black', color='black', capsize=6)\n",
    "    \n",
    "    axs[i].set_xlabel('')\n",
    "    axs[i].set_ylabel(metric, fontweight='bold')\n",
    "    i += 1\n",
    "\n",
    "plt.setp(ax, ylim=[0, 1.1])\n",
    "plt.show()"
   ]
  },
  {
   "cell_type": "markdown",
   "id": "531e686f-cc38-49d7-8032-94224f575d32",
   "metadata": {},
   "source": [
    "#### Some interesting results across days\n",
    "\n",
    "- 05/26/2021\n",
    "    - 59 degrees F and Sunny\n",
    "- 06/14/2021\n",
    "    - 84 degrees F and Sunny\n",
    "- 06/18/2021\n",
    "    - 86 degrees F and Sunny\n",
    "\n",
    "-> All days warm and sunny"
   ]
  },
  {
   "cell_type": "markdown",
   "id": "2561e2f6-4080-4af7-82f0-ff496706f397",
   "metadata": {},
   "source": [
    "### Confidence intervals comparisons:\n",
    "\n",
    "- if the intervals of two subgroups do not overlap, it suggests that there is a major significant difference between the subgroups.\n",
    "- if the mean does not overlap with the interval of another subgroup, it suggests that there is a significant statistical difference also, depending on how you set up your hypothesis test\n"
   ]
  },
  {
   "cell_type": "markdown",
   "id": "c52b8db0-380f-4fd2-8f5d-28649e4f8b25",
   "metadata": {},
   "source": [
    "# Week 4\n",
    "\n",
    "- Separate out images that have been classified as mask=0, and look at them\n",
    "\n",
    "- Q1 -> Q3 transition seems important\n",
    "\n",
    "- Group by quadrant/day\n",
    "\n",
    "- Explore ways to improve model based on these insights"
   ]
  },
  {
   "cell_type": "markdown",
   "id": "2d16a27a-1d30-4f2b-a6e8-1ea8051ec640",
   "metadata": {},
   "source": [
    "### Helena Convo\n",
    "\n",
    "- Ingrid Schnider\n",
    "    - parks and forestry - supportive of the project\n",
    "- Ted Morris\n",
    "    - data collection in the parks\n",
    "- Catherine Zhao and Helena (robotics MS)\n",
    "    - Proof of concept\n",
    "    - CV model annotations and detections\n",
    "    - Collected data from internet, collected and trained a few models\n",
    "    - Image search is where images were from\n",
    "    - Helena's project proved that the dataset is best one for mask detection\n",
    "    - Says CV techniques is a good solution for this problem\n",
    "    - Also says that the dataset is better than the existing mask datasets out there\n",
    "    - Need to optimize the models\n",
    "    - Also has depth data and could track frame by frame spacial analysis to get the face\n",
    "    - Helena code first detects the face, then feeds the face into the mask classifier"
   ]
  },
  {
   "cell_type": "markdown",
   "id": "cc08ff85-ee00-4bc5-bfdf-9be510e8944b",
   "metadata": {},
   "source": [
    "### Frame Quadrants / Date Grouping"
   ]
  },
  {
   "cell_type": "code",
   "execution_count": 87,
   "id": "28200c10-d7a9-475b-b039-d956fcfe493e",
   "metadata": {},
   "outputs": [],
   "source": [
    "# reset groups df\n",
    "df_groups = []"
   ]
  },
  {
   "cell_type": "code",
   "execution_count": 88,
   "id": "643c25a9-a61c-48fe-a37a-d1420b4df18b",
   "metadata": {},
   "outputs": [
    {
     "name": "stderr",
     "output_type": "stream",
     "text": [
      "/var/folders/qk/p_zbkww15t9_4fk2_nm3_gp40000gn/T/ipykernel_6359/3385842869.py:3: RuntimeWarning: invalid value encountered in long_scalars\n",
      "  return tp/(tp+fn)\n",
      "/var/folders/qk/p_zbkww15t9_4fk2_nm3_gp40000gn/T/ipykernel_6359/3385842869.py:3: RuntimeWarning: invalid value encountered in long_scalars\n",
      "  return tp/(tp+fn)\n",
      "/var/folders/qk/p_zbkww15t9_4fk2_nm3_gp40000gn/T/ipykernel_6359/3385842869.py:3: RuntimeWarning: invalid value encountered in long_scalars\n",
      "  return tp/(tp+fn)\n",
      "/var/folders/qk/p_zbkww15t9_4fk2_nm3_gp40000gn/T/ipykernel_6359/3385842869.py:3: RuntimeWarning: invalid value encountered in long_scalars\n",
      "  return tp/(tp+fn)\n",
      "/var/folders/qk/p_zbkww15t9_4fk2_nm3_gp40000gn/T/ipykernel_6359/3385842869.py:3: RuntimeWarning: invalid value encountered in long_scalars\n",
      "  return tp/(tp+fn)\n",
      "/var/folders/qk/p_zbkww15t9_4fk2_nm3_gp40000gn/T/ipykernel_6359/3385842869.py:3: RuntimeWarning: invalid value encountered in long_scalars\n",
      "  return tp/(tp+fn)\n"
     ]
    }
   ],
   "source": [
    "quadrants = [1, 3]\n",
    "dates = [20210526, 20210614]\n",
    "\n",
    "for d in dates:\n",
    "    for q in quadrants:\n",
    "        df_q_d = df_filtered[(df_filtered['quadrant'] == q) & (df_filtered['date'] == d)]\n",
    "        metrics_df_q_d = get_bootstrapping_ci(df_q_d)\n",
    "        metrics_df_q_d['Group'] = f'Q{q}_{d}'\n",
    "        df_groups.append(metrics_df_q_d)"
   ]
  },
  {
   "cell_type": "code",
   "execution_count": 89,
   "id": "2f4361fa-bd5e-44d7-b7d1-2c27d2a79670",
   "metadata": {},
   "outputs": [
    {
     "data": {
      "image/png": "[encoded data removed]",
      "text/plain": [
       "<Figure size 1500x1000 with 4 Axes>"
      ]
     },
     "metadata": {},
     "output_type": "display_data"
    }
   ],
   "source": [
    "df_concat = pd.concat(df_groups, ignore_index=True)\n",
    "\n",
    "fig, ax = plt.subplots(2, 2, figsize=(15, 10))\n",
    "axs = np.array(ax).flatten()\n",
    "i = 0\n",
    "\n",
    "for metric in metric_functions:\n",
    "    df_metric = df_concat[df_concat['Metric'] == metric]\n",
    "    df_metric.reset_index(drop=True, inplace=True)\n",
    "    \n",
    "    sns.barplot(data=df_metric, x='Group', y='Score', alpha=0.1, ax=axs[i])\n",
    "    y_error = np.array(list(df_metric['Error'])).T\n",
    "    axs[i].errorbar(x=df_metric.index, y=df_metric['Score'], yerr=y_error, fmt='o', ecolor='black', color='black', capsize=6)\n",
    "    \n",
    "    axs[i].set_xlabel('')\n",
    "    axs[i].set_ylabel(metric, fontweight='bold')\n",
    "    i += 1\n",
    "\n",
    "plt.setp(ax, ylim=[0, 1.1])\n",
    "plt.show()"
   ]
  },
  {
   "cell_type": "code",
   "execution_count": 93,
   "id": "e09ba97c-ee1d-400a-b9ad-0d96fe6ba92a",
   "metadata": {},
   "outputs": [
    {
     "data": {
      "text/html": [
       "<div>\n",
       "<style scoped>\n",
       "    .dataframe tbody tr th:only-of-type {\n",
       "        vertical-align: middle;\n",
       "    }\n",
       "\n",
       "    .dataframe tbody tr th {\n",
       "        vertical-align: top;\n",
       "    }\n",
       "\n",
       "    .dataframe thead th {\n",
       "        text-align: right;\n",
       "    }\n",
       "</style>\n",
       "<table border=\"1\" class=\"dataframe\">\n",
       "  <thead>\n",
       "    <tr style=\"text-align: right;\">\n",
       "      <th></th>\n",
       "      <th>file</th>\n",
       "      <th>x1</th>\n",
       "      <th>x2</th>\n",
       "      <th>y1</th>\n",
       "      <th>y2</th>\n",
       "      <th>mask</th>\n",
       "      <th>date</th>\n",
       "      <th>start_time</th>\n",
       "      <th>frame no</th>\n",
       "      <th>quadrant</th>\n",
       "      <th>true_mask</th>\n",
       "    </tr>\n",
       "  </thead>\n",
       "  <tbody>\n",
       "    <tr>\n",
       "      <th>117</th>\n",
       "      <td>park-tests/converted/coverted_FRAMES/20210614_...</td>\n",
       "      <td>17</td>\n",
       "      <td>36</td>\n",
       "      <td>227</td>\n",
       "      <td>252</td>\n",
       "      <td>1</td>\n",
       "      <td>20210614</td>\n",
       "      <td>154716</td>\n",
       "      <td>5255</td>\n",
       "      <td>3</td>\n",
       "      <td>1</td>\n",
       "    </tr>\n",
       "    <tr>\n",
       "      <th>376</th>\n",
       "      <td>park-tests/converted/coverted_FRAMES/20210614_...</td>\n",
       "      <td>0</td>\n",
       "      <td>13</td>\n",
       "      <td>226</td>\n",
       "      <td>250</td>\n",
       "      <td>1</td>\n",
       "      <td>20210614</td>\n",
       "      <td>154716</td>\n",
       "      <td>5266</td>\n",
       "      <td>3</td>\n",
       "      <td>1</td>\n",
       "    </tr>\n",
       "    <tr>\n",
       "      <th>446</th>\n",
       "      <td>park-tests/converted/coverted_FRAMES/20210614_...</td>\n",
       "      <td>20</td>\n",
       "      <td>41</td>\n",
       "      <td>229</td>\n",
       "      <td>257</td>\n",
       "      <td>1</td>\n",
       "      <td>20210614</td>\n",
       "      <td>154716</td>\n",
       "      <td>6114</td>\n",
       "      <td>3</td>\n",
       "      <td>1</td>\n",
       "    </tr>\n",
       "  </tbody>\n",
       "</table>\n",
       "</div>"
      ],
      "text/plain": [
       "                                                  file  x1  x2   y1   y2  \\\n",
       "117  park-tests/converted/coverted_FRAMES/20210614_...  17  36  227  252   \n",
       "376  park-tests/converted/coverted_FRAMES/20210614_...   0  13  226  250   \n",
       "446  park-tests/converted/coverted_FRAMES/20210614_...  20  41  229  257   \n",
       "\n",
       "     mask      date  start_time  frame no  quadrant  true_mask  \n",
       "117     1  20210614      154716      5255         3          1  \n",
       "376     1  20210614      154716      5266         3          1  \n",
       "446     1  20210614      154716      6114         3          1  "
      ]
     },
     "execution_count": 93,
     "metadata": {},
     "output_type": "execute_result"
    }
   ],
   "source": [
    "df_filtered[(df_filtered['quadrant'] == 3) & (df_filtered['date'] == 20210614) & (df_filtered['true_mask'] == 1)]"
   ]
  },
  {
   "cell_type": "markdown",
   "id": "5451580f-9c8a-4e2b-be4e-407b15382060",
   "metadata": {},
   "source": [
    "## Bucketing Images for Visual Analysis"
   ]
  },
  {
   "cell_type": "code",
   "execution_count": 86,
   "id": "d7eedfdf-b8a0-4f3d-a4fd-ab33745e6857",
   "metadata": {},
   "outputs": [],
   "source": [
    "images_mask_predicted = df_filtered[df_filtered['mask'] == 0]\n",
    "file_names = list(images_mask_predicted['file'].str.split('/').str[-1])"
   ]
  },
  {
   "cell_type": "code",
   "execution_count": null,
   "id": "a301fe80-5362-4c1d-b9c2-4bf9a93f84e8",
   "metadata": {},
   "outputs": [],
   "source": []
  }
 ],
 "metadata": {
  "kernelspec": {
   "display_name": "mask-detection",
   "language": "python",
   "name": "mask-detection"
  },
  "language_info": {
   "codemirror_mode": {
    "name": "ipython",
    "version": 3
   },
   "file_extension": ".py",
   "mimetype": "text/x-python",
   "name": "python",
   "nbconvert_exporter": "python",
   "pygments_lexer": "ipython3",
   "version": "3.10.8"
  },
  "toc-autonumbering": false,
  "toc-showcode": false,
  "toc-showmarkdowntxt": false
 },
 "nbformat": 4,
 "nbformat_minor": 5
}
