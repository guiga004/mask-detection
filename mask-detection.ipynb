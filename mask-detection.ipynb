{
 "cells": [
  {
   "cell_type": "markdown",
   "id": "b4aaab4b-a20e-44df-924e-d82f8a25fdba",
   "metadata": {
    "tags": []
   },
   "source": [
    "# Week 1\n",
    "\n",
    "- calculate performance metrics of the model output compared to the truth values "
   ]
  },
  {
   "cell_type": "code",
   "execution_count": 1,
   "id": "de001a83-5fb1-4da8-b691-43493bc83c02",
   "metadata": {},
   "outputs": [],
   "source": [
    "import numpy as np\n",
    "from scipy import stats\n",
    "import pandas as pd\n",
    "import matplotlib.pyplot as plt\n",
    "import seaborn as sns\n",
    "\n",
    "\n",
    "sns.set_style(\"darkgrid\")"
   ]
  },
  {
   "cell_type": "code",
   "execution_count": 2,
   "id": "b33a1686-addd-4d75-bed5-f610c4e86329",
   "metadata": {},
   "outputs": [
    {
     "data": {
      "text/html": [
       "<div>\n",
       "<style scoped>\n",
       "    .dataframe tbody tr th:only-of-type {\n",
       "        vertical-align: middle;\n",
       "    }\n",
       "\n",
       "    .dataframe tbody tr th {\n",
       "        vertical-align: top;\n",
       "    }\n",
       "\n",
       "    .dataframe thead th {\n",
       "        text-align: right;\n",
       "    }\n",
       "</style>\n",
       "<table border=\"1\" class=\"dataframe\">\n",
       "  <thead>\n",
       "    <tr style=\"text-align: right;\">\n",
       "      <th></th>\n",
       "      <th>file</th>\n",
       "      <th>x1</th>\n",
       "      <th>x2</th>\n",
       "      <th>y1</th>\n",
       "      <th>y2</th>\n",
       "      <th>mask</th>\n",
       "      <th>date</th>\n",
       "      <th>start_time</th>\n",
       "      <th>frame no</th>\n",
       "      <th>quadrant</th>\n",
       "      <th>true_mask</th>\n",
       "    </tr>\n",
       "  </thead>\n",
       "  <tbody>\n",
       "    <tr>\n",
       "      <th>0</th>\n",
       "      <td>park-tests/converted/coverted_FRAMES/20210526_...</td>\n",
       "      <td>720</td>\n",
       "      <td>763</td>\n",
       "      <td>185</td>\n",
       "      <td>246</td>\n",
       "      <td>0</td>\n",
       "      <td>20210526</td>\n",
       "      <td>182313</td>\n",
       "      <td>1248</td>\n",
       "      <td>3</td>\n",
       "      <td>0</td>\n",
       "    </tr>\n",
       "    <tr>\n",
       "      <th>1</th>\n",
       "      <td>park-tests/converted/coverted_FRAMES/20210526_...</td>\n",
       "      <td>13</td>\n",
       "      <td>40</td>\n",
       "      <td>3</td>\n",
       "      <td>40</td>\n",
       "      <td>1</td>\n",
       "      <td>20210526</td>\n",
       "      <td>182313</td>\n",
       "      <td>4876</td>\n",
       "      <td>3</td>\n",
       "      <td>1</td>\n",
       "    </tr>\n",
       "    <tr>\n",
       "      <th>2</th>\n",
       "      <td>park-tests/converted/coverted_FRAMES/20210526_...</td>\n",
       "      <td>695</td>\n",
       "      <td>736</td>\n",
       "      <td>201</td>\n",
       "      <td>254</td>\n",
       "      <td>0</td>\n",
       "      <td>20210526</td>\n",
       "      <td>182313</td>\n",
       "      <td>4876</td>\n",
       "      <td>3</td>\n",
       "      <td>0</td>\n",
       "    </tr>\n",
       "    <tr>\n",
       "      <th>3</th>\n",
       "      <td>park-tests/converted/coverted_FRAMES/20210526_...</td>\n",
       "      <td>573</td>\n",
       "      <td>663</td>\n",
       "      <td>326</td>\n",
       "      <td>430</td>\n",
       "      <td>1</td>\n",
       "      <td>20210526</td>\n",
       "      <td>182313</td>\n",
       "      <td>4397</td>\n",
       "      <td>1</td>\n",
       "      <td>1</td>\n",
       "    </tr>\n",
       "    <tr>\n",
       "      <th>4</th>\n",
       "      <td>park-tests/converted/coverted_FRAMES/20210526_...</td>\n",
       "      <td>893</td>\n",
       "      <td>973</td>\n",
       "      <td>346</td>\n",
       "      <td>452</td>\n",
       "      <td>1</td>\n",
       "      <td>20210526</td>\n",
       "      <td>182313</td>\n",
       "      <td>4397</td>\n",
       "      <td>1</td>\n",
       "      <td>1</td>\n",
       "    </tr>\n",
       "  </tbody>\n",
       "</table>\n",
       "</div>"
      ],
      "text/plain": [
       "                                                file   x1   x2   y1   y2  \\\n",
       "0  park-tests/converted/coverted_FRAMES/20210526_...  720  763  185  246   \n",
       "1  park-tests/converted/coverted_FRAMES/20210526_...   13   40    3   40   \n",
       "2  park-tests/converted/coverted_FRAMES/20210526_...  695  736  201  254   \n",
       "3  park-tests/converted/coverted_FRAMES/20210526_...  573  663  326  430   \n",
       "4  park-tests/converted/coverted_FRAMES/20210526_...  893  973  346  452   \n",
       "\n",
       "   mask      date  start_time  frame no  quadrant  true_mask  \n",
       "0     0  20210526      182313      1248         3          0  \n",
       "1     1  20210526      182313      4876         3          1  \n",
       "2     0  20210526      182313      4876         3          0  \n",
       "3     1  20210526      182313      4397         1          1  \n",
       "4     1  20210526      182313      4397         1          1  "
      ]
     },
     "execution_count": 2,
     "metadata": {},
     "output_type": "execute_result"
    }
   ],
   "source": [
    "df = pd.read_csv(\"helena_results.csv\")\n",
    "df.head()"
   ]
  },
  {
   "cell_type": "code",
   "execution_count": 3,
   "id": "fc8a87f5-b8f7-4de4-8989-806229317e1c",
   "metadata": {},
   "outputs": [
    {
     "name": "stdout",
     "output_type": "stream",
     "text": [
      "<class 'pandas.core.frame.DataFrame'>\n",
      "RangeIndex: 1038 entries, 0 to 1037\n",
      "Data columns (total 11 columns):\n",
      " #   Column      Non-Null Count  Dtype \n",
      "---  ------      --------------  ----- \n",
      " 0   file        1038 non-null   object\n",
      " 1   x1          1038 non-null   int64 \n",
      " 2   x2          1038 non-null   int64 \n",
      " 3   y1          1038 non-null   int64 \n",
      " 4   y2          1038 non-null   int64 \n",
      " 5   mask        1038 non-null   int64 \n",
      " 6   date        1038 non-null   int64 \n",
      " 7   start_time  1038 non-null   int64 \n",
      " 8   frame no    1038 non-null   int64 \n",
      " 9   quadrant    1038 non-null   int64 \n",
      " 10  true_mask   1038 non-null   int64 \n",
      "dtypes: int64(10), object(1)\n",
      "memory usage: 89.3+ KB\n"
     ]
    }
   ],
   "source": [
    "df.info()"
   ]
  },
  {
   "cell_type": "markdown",
   "id": "921a7b50-041e-47ae-a447-be9ecf98194c",
   "metadata": {
    "tags": []
   },
   "source": [
    "## Definitions\n",
    "**mask:** model output\n",
    "\n",
    "**true_mask:** true label (human labeled)\n",
    "\n",
    "- 0: mask\n",
    "- 1: no-mask\n",
    "- 2: false detection\n",
    "\n",
    "A **false detection** describes an instance where the model detected the ground, or other object, as a face."
   ]
  },
  {
   "cell_type": "code",
   "execution_count": 4,
   "id": "88acfea7-fafa-4c80-a4ef-44b4c0838351",
   "metadata": {},
   "outputs": [
    {
     "data": {
      "text/plain": [
       "0    707\n",
       "1    331\n",
       "Name: mask, dtype: int64"
      ]
     },
     "execution_count": 4,
     "metadata": {},
     "output_type": "execute_result"
    }
   ],
   "source": [
    "df['mask'].value_counts()"
   ]
  },
  {
   "cell_type": "code",
   "execution_count": 5,
   "id": "62d54541-af35-4df9-a9cf-31e3d61a0518",
   "metadata": {},
   "outputs": [
    {
     "data": {
      "text/plain": [
       "1    530\n",
       "0    447\n",
       "2     61\n",
       "Name: true_mask, dtype: int64"
      ]
     },
     "execution_count": 5,
     "metadata": {},
     "output_type": "execute_result"
    }
   ],
   "source": [
    "df['true_mask'].value_counts()"
   ]
  },
  {
   "cell_type": "markdown",
   "id": "e3458faa-a04a-489b-b3f8-61455d31c4ed",
   "metadata": {},
   "source": [
    "## Metrics and Scoring"
   ]
  },
  {
   "cell_type": "code",
   "execution_count": 6,
   "id": "95b51ca2-101f-47e5-a115-65e33f300c69",
   "metadata": {},
   "outputs": [
    {
     "data": {
      "text/plain": [
       "(977, 11)"
      ]
     },
     "execution_count": 6,
     "metadata": {},
     "output_type": "execute_result"
    }
   ],
   "source": [
    "from sklearn.metrics import confusion_matrix, accuracy_score, precision_score, recall_score, f1_score\n",
    "\n",
    "# exclude false detections from this analysis\n",
    "df_filtered = df[df['true_mask'] < 2]\n",
    "\n",
    "df_filtered.shape"
   ]
  },
  {
   "cell_type": "code",
   "execution_count": 7,
   "id": "fe0045b2-9f4f-4abd-b6e3-ded6b9f6d618",
   "metadata": {},
   "outputs": [],
   "source": [
    "# store the true and predicted labels into variables for metric calculations\n",
    "mask_true = df_filtered['true_mask']\n",
    "mask_pred = df_filtered['mask']"
   ]
  },
  {
   "cell_type": "code",
   "execution_count": 8,
   "id": "e6159389-93a0-47ac-bfac-1dacef101909",
   "metadata": {},
   "outputs": [],
   "source": [
    "def sensitivity(y_true, y_pred):\n",
    "    tn, fp, fn, tp = confusion_matrix(y_true, y_pred).ravel()\n",
    "    return tp/(tp+fn)\n",
    "\n",
    "def specificity(y_true, y_pred):\n",
    "    tn, fp, fn, tp = confusion_matrix(y_true, y_pred).ravel()\n",
    "    return tn/(tn+fp)"
   ]
  },
  {
   "cell_type": "code",
   "execution_count": 9,
   "id": "939e6be2-f814-46bb-9c5d-1dc418bde700",
   "metadata": {},
   "outputs": [
    {
     "name": "stdout",
     "output_type": "stream",
     "text": [
      "sensitivity score: 0.4302\n",
      "specificity score: 0.7987\n",
      "accuracy score: 0.5988\n",
      "precision score: 0.717\n",
      "recall score: 0.4302\n",
      "f1 score: 0.5377\n"
     ]
    }
   ],
   "source": [
    "metric_functions = {'sensitivity': sensitivity, \n",
    "                    'specificity': specificity,\n",
    "                    'accuracy': accuracy_score, \n",
    "                    'precision': precision_score,\n",
    "                    'recall': recall_score,\n",
    "                    'f1': f1_score}\n",
    "\n",
    "metric_values = {}\n",
    "\n",
    "for metric in metric_functions:\n",
    "    score = metric_functions[metric](y_true=mask_true, y_pred=mask_pred)\n",
    "    print(f'{metric} score: {round(score, 4)}')\n",
    "    metric_values[metric] = round(score, 4)"
   ]
  },
  {
   "cell_type": "markdown",
   "id": "b85d0eaf-04ef-47c9-b877-55a37182c7de",
   "metadata": {},
   "source": [
    "# Week 2\n",
    "\n",
    "- calculating confidence intervals around these numbers\n",
    "- two sample testing of accuracy metrics - testing specificity between different groups, p values \n",
    "- looking at different groups where the metrics are better/worse\n",
    "    - look for big spreads\n",
    "    \n",
    "- Nirmal - worked with Ted\n",
    "- Ted Morris (camera / robotics, etc)\n",
    "    - Camera has object detection capabilities\n",
    "- Helena - worked with Catherine Zhao\n",
    "    - Graduated and developed NN\n",
    "    \n",
    "- Catherine Zhao\n",
    "    - Reach out to Catherine for training data / model code\n",
    "    - Hoping to get access to the code / training data\n",
    "    - Willing to put them on github with prof wolfson"
   ]
  },
  {
   "cell_type": "markdown",
   "id": "bd7ce07e-6234-4116-b4b2-7a98f795f514",
   "metadata": {},
   "source": [
    "## Exploration\n",
    "\n",
    "- explore rnn for image classification since it has a memory component and looks at multiple frames at once"
   ]
  },
  {
   "cell_type": "markdown",
   "id": "93e558f0-cb43-4085-a56b-649a6e827b0f",
   "metadata": {},
   "source": [
    "### Calculating confidence intervals around the metrics"
   ]
  },
  {
   "cell_type": "markdown",
   "id": "779cbb49-d0bd-4e66-9a58-3627d9d04ec2",
   "metadata": {},
   "source": [
    "#### Z-score"
   ]
  },
  {
   "cell_type": "code",
   "execution_count": 10,
   "id": "9b5547cd-9914-4fad-99f2-4852bf582ed3",
   "metadata": {},
   "outputs": [],
   "source": [
    "def confidence_interval_z_score(n, metric):\n",
    "    # standard error\n",
    "    se = np.sqrt(metric * (1-metric) / n)\n",
    "    \n",
    "    # z score for 95% confidence interval\n",
    "    z = stats.norm.ppf(0.975)\n",
    "    \n",
    "    lower = metric - z*se\n",
    "    upper = metric + z*se\n",
    "    \n",
    "    return (round(lower, 4), round(upper, 4))"
   ]
  },
  {
   "cell_type": "code",
   "execution_count": 11,
   "id": "f977f2cc-10e6-4869-a25b-53a844d410de",
   "metadata": {},
   "outputs": [
    {
     "name": "stdout",
     "output_type": "stream",
     "text": [
      "95% confidence interval for the sensitivity of 0.4302 is: (0.4001, 0.4603) \n",
      "\n",
      "95% confidence interval for the specificity of 0.7987 is: (0.7743, 0.8231) \n",
      "\n",
      "95% confidence interval for the accuracy of 0.5988 is: (0.569, 0.6286) \n",
      "\n",
      "95% confidence interval for the precision of 0.717 is: (0.6896, 0.7444) \n",
      "\n",
      "95% confidence interval for the recall of 0.4302 is: (0.4001, 0.4603) \n",
      "\n",
      "95% confidence interval for the f1 of 0.5377 is: (0.5074, 0.568) \n",
      "\n"
     ]
    }
   ],
   "source": [
    "n = df.shape[0]\n",
    "for metric in metric_values:\n",
    "    metric_value = metric_values[metric]\n",
    "    ci = confidence_interval_z_score(n, metric_value)\n",
    "    print(f'95% confidence interval for the {metric} of {metric_value} is: {ci} \\n')"
   ]
  },
  {
   "cell_type": "markdown",
   "id": "2ce93d20-dad0-4b7e-929f-3837e433bd7d",
   "metadata": {},
   "source": [
    "**Turns out, using the z score method for some metrics may not be adequate**\n",
    "\n",
    "Since the denominator is n, the number of records. This will work for something like the average (since the denominator is the same), but for metrics like specificity and sensitivity, the denominator isn't - so a method like bootstrapping will work better."
   ]
  },
  {
   "cell_type": "markdown",
   "id": "3134ddee-25aa-4120-b34a-7fa48bef621e",
   "metadata": {},
   "source": [
    "#### Bootstrapping"
   ]
  },
  {
   "cell_type": "code",
   "execution_count": 12,
   "id": "8f4e25cd-78aa-4073-b859-2fcc03c6c94c",
   "metadata": {},
   "outputs": [],
   "source": [
    "from sklearn.utils import resample\n",
    "\n",
    "def confidence_interval_bootstrapping(y_true, y_pred, metric_function, n_iterations=100, alpha=0.05):\n",
    "    \n",
    "    metric_samples = []\n",
    "    \n",
    "    for i in range(n_iterations):\n",
    "        y_true_resample, y_pred_resample = resample(y_true, y_pred)\n",
    "        metric_resample = metric_function(y_true_resample, y_pred_resample)\n",
    "        metric_samples.append(metric_resample)\n",
    "        \n",
    "    lower = np.percentile(metric_samples, alpha/2*100)\n",
    "    upper = np.percentile(metric_samples, (1-alpha/2)*100)\n",
    "    \n",
    "    return (round(lower, 4), round(upper, 4))\n",
    "\n",
    "def get_bootstrapping_ci(df):\n",
    "    \n",
    "    mask_true = df['true_mask']\n",
    "    mask_pred = df['mask']\n",
    "    \n",
    "    metrics_ci = {'Metric': [],\n",
    "              'Score': [],\n",
    "              'Lower bound': [],\n",
    "              'Upper bound': [],\n",
    "              'Error': []}\n",
    "    \n",
    "    metric_functions = {'sensitivity': sensitivity, \n",
    "                    'specificity': specificity,\n",
    "                    'accuracy': accuracy_score, \n",
    "                    'precision': precision_score,\n",
    "                    'recall': recall_score,\n",
    "                    'f1': f1_score}\n",
    "\n",
    "    metric_values = {}\n",
    "\n",
    "    for metric in metric_functions:\n",
    "        metrics_ci['Metric'].append(metric)\n",
    "\n",
    "        metric_value = metric_functions[metric](y_true=mask_true, y_pred=mask_pred)\n",
    "        metric_value = round(metric_value, 4)\n",
    "        metrics_ci['Score'].append(metric_value)\n",
    "\n",
    "        ci = confidence_interval_bootstrapping(mask_true, mask_pred, metric_functions[metric])\n",
    "        metrics_ci['Lower bound'].append(ci[0])\n",
    "        metrics_ci['Upper bound'].append(ci[1])\n",
    "        \n",
    "        metrics_ci['Error'].append((round(metric_value-ci[0], 4), round(ci[1]-metric_value, 4)))\n",
    "    \n",
    "    return pd.DataFrame(metrics_ci)\n",
    "    \n",
    "    "
   ]
  },
  {
   "cell_type": "code",
   "execution_count": 13,
   "id": "40443f83-ecce-43fd-9eb6-32d7c50895c1",
   "metadata": {},
   "outputs": [],
   "source": [
    "# list to hold dataframes containing metrics from different groups\n",
    "df_groups = []"
   ]
  },
  {
   "cell_type": "code",
   "execution_count": 14,
   "id": "e10414cc-b46f-498d-824a-9f27ceffc6e7",
   "metadata": {},
   "outputs": [
    {
     "data": {
      "text/html": [
       "<div>\n",
       "<style scoped>\n",
       "    .dataframe tbody tr th:only-of-type {\n",
       "        vertical-align: middle;\n",
       "    }\n",
       "\n",
       "    .dataframe tbody tr th {\n",
       "        vertical-align: top;\n",
       "    }\n",
       "\n",
       "    .dataframe thead th {\n",
       "        text-align: right;\n",
       "    }\n",
       "</style>\n",
       "<table border=\"1\" class=\"dataframe\">\n",
       "  <thead>\n",
       "    <tr style=\"text-align: right;\">\n",
       "      <th></th>\n",
       "      <th>Metric</th>\n",
       "      <th>Score</th>\n",
       "      <th>Lower bound</th>\n",
       "      <th>Upper bound</th>\n",
       "      <th>Error</th>\n",
       "      <th>df</th>\n",
       "    </tr>\n",
       "  </thead>\n",
       "  <tbody>\n",
       "    <tr>\n",
       "      <th>0</th>\n",
       "      <td>sensitivity</td>\n",
       "      <td>0.4302</td>\n",
       "      <td>0.3891</td>\n",
       "      <td>0.4720</td>\n",
       "      <td>(0.0411, 0.0418)</td>\n",
       "      <td>All</td>\n",
       "    </tr>\n",
       "    <tr>\n",
       "      <th>1</th>\n",
       "      <td>specificity</td>\n",
       "      <td>0.7987</td>\n",
       "      <td>0.7564</td>\n",
       "      <td>0.8354</td>\n",
       "      <td>(0.0423, 0.0367)</td>\n",
       "      <td>All</td>\n",
       "    </tr>\n",
       "    <tr>\n",
       "      <th>2</th>\n",
       "      <td>accuracy</td>\n",
       "      <td>0.5988</td>\n",
       "      <td>0.5613</td>\n",
       "      <td>0.6214</td>\n",
       "      <td>(0.0375, 0.0226)</td>\n",
       "      <td>All</td>\n",
       "    </tr>\n",
       "    <tr>\n",
       "      <th>3</th>\n",
       "      <td>precision</td>\n",
       "      <td>0.7170</td>\n",
       "      <td>0.6705</td>\n",
       "      <td>0.7622</td>\n",
       "      <td>(0.0465, 0.0452)</td>\n",
       "      <td>All</td>\n",
       "    </tr>\n",
       "    <tr>\n",
       "      <th>4</th>\n",
       "      <td>recall</td>\n",
       "      <td>0.4302</td>\n",
       "      <td>0.3957</td>\n",
       "      <td>0.4750</td>\n",
       "      <td>(0.0345, 0.0448)</td>\n",
       "      <td>All</td>\n",
       "    </tr>\n",
       "    <tr>\n",
       "      <th>5</th>\n",
       "      <td>f1</td>\n",
       "      <td>0.5377</td>\n",
       "      <td>0.5050</td>\n",
       "      <td>0.5774</td>\n",
       "      <td>(0.0327, 0.0397)</td>\n",
       "      <td>All</td>\n",
       "    </tr>\n",
       "  </tbody>\n",
       "</table>\n",
       "</div>"
      ],
      "text/plain": [
       "        Metric   Score  Lower bound  Upper bound             Error   df\n",
       "0  sensitivity  0.4302       0.3891       0.4720  (0.0411, 0.0418)  All\n",
       "1  specificity  0.7987       0.7564       0.8354  (0.0423, 0.0367)  All\n",
       "2     accuracy  0.5988       0.5613       0.6214  (0.0375, 0.0226)  All\n",
       "3    precision  0.7170       0.6705       0.7622  (0.0465, 0.0452)  All\n",
       "4       recall  0.4302       0.3957       0.4750  (0.0345, 0.0448)  All\n",
       "5           f1  0.5377       0.5050       0.5774  (0.0327, 0.0397)  All"
      ]
     },
     "execution_count": 14,
     "metadata": {},
     "output_type": "execute_result"
    }
   ],
   "source": [
    "metrics_df = get_bootstrapping_ci(df_filtered)\n",
    "metrics_df['df'] = 'All'\n",
    "df_groups.append(metrics_df)\n",
    "metrics_df"
   ]
  },
  {
   "cell_type": "code",
   "execution_count": 15,
   "id": "f8365df2-627e-4828-91d4-0cc293ec9f28",
   "metadata": {},
   "outputs": [
    {
     "data": {
      "image/png": "[encoded data removed]",
      "text/plain": [
       "<Figure size 640x480 with 1 Axes>"
      ]
     },
     "metadata": {},
     "output_type": "display_data"
    }
   ],
   "source": [
    "# plt.figure(figsize=(10,6))\n",
    "sns.barplot(data=metrics_df, x='Metric', y='Score', alpha=0.1)\n",
    "y_error = (metrics_df['Score']-metrics_df['Lower bound'], metrics_df['Upper bound']-metrics_df['Score'])\n",
    "plt.errorbar(x=metrics_df.index, y=metrics_df['Score'], yerr=y_error, fmt='o', ecolor='black', color='black', capsize=6)\n",
    "\n",
    "plt.title(\"Metrics and Confidence Intervals using Bootstrapping\")\n",
    "plt.show()"
   ]
  },
  {
   "cell_type": "markdown",
   "id": "b7654cf7-2c4c-429e-9c91-a36aabf24706",
   "metadata": {},
   "source": [
    "# Week 3\n",
    "- look into bootstrap pros and cons\n",
    "- get this in a table for now\n",
    "- for future - look at sub groups - plot on same plot\n",
    "- for now, stick with things like sensitivity and specificity since they don't depend on prevalance of the event\\\n",
    "- meet with ted and nermel"
   ]
  },
  {
   "cell_type": "markdown",
   "id": "20fc3f37-4c12-496f-81f1-af037ef77d59",
   "metadata": {},
   "source": [
    "## Sub Groups"
   ]
  },
  {
   "cell_type": "markdown",
   "id": "a95ce941-9ac1-4412-8d5b-12514c9bca36",
   "metadata": {},
   "source": [
    "### Quadrants"
   ]
  },
  {
   "cell_type": "code",
   "execution_count": 16,
   "id": "41f2cbc9-0d7e-4761-99e6-838faf00c780",
   "metadata": {},
   "outputs": [
    {
     "data": {
      "text/plain": [
       "1    542\n",
       "3    457\n",
       "4     27\n",
       "2     12\n",
       "Name: quadrant, dtype: int64"
      ]
     },
     "execution_count": 16,
     "metadata": {},
     "output_type": "execute_result"
    }
   ],
   "source": [
    "df['quadrant'].value_counts()"
   ]
  },
  {
   "cell_type": "markdown",
   "id": "381805ec-d22c-4c7c-b58f-136d281016bf",
   "metadata": {},
   "source": [
    "#### Most bounding boxes in quadrants 1 and 3"
   ]
  },
  {
   "cell_type": "code",
   "execution_count": 17,
   "id": "427d1587-64ed-4d75-9ef6-b8d877527e41",
   "metadata": {},
   "outputs": [
    {
     "data": {
      "text/html": [
       "<div>\n",
       "<style scoped>\n",
       "    .dataframe tbody tr th:only-of-type {\n",
       "        vertical-align: middle;\n",
       "    }\n",
       "\n",
       "    .dataframe tbody tr th {\n",
       "        vertical-align: top;\n",
       "    }\n",
       "\n",
       "    .dataframe thead th {\n",
       "        text-align: right;\n",
       "    }\n",
       "</style>\n",
       "<table border=\"1\" class=\"dataframe\">\n",
       "  <thead>\n",
       "    <tr style=\"text-align: right;\">\n",
       "      <th>quadrant</th>\n",
       "      <th>1</th>\n",
       "      <th>2</th>\n",
       "      <th>3</th>\n",
       "      <th>4</th>\n",
       "      <th>Total</th>\n",
       "    </tr>\n",
       "    <tr>\n",
       "      <th>mask</th>\n",
       "      <th></th>\n",
       "      <th></th>\n",
       "      <th></th>\n",
       "      <th></th>\n",
       "      <th></th>\n",
       "    </tr>\n",
       "  </thead>\n",
       "  <tbody>\n",
       "    <tr>\n",
       "      <th>0</th>\n",
       "      <td>315</td>\n",
       "      <td>8</td>\n",
       "      <td>363</td>\n",
       "      <td>21</td>\n",
       "      <td>707</td>\n",
       "    </tr>\n",
       "    <tr>\n",
       "      <th>1</th>\n",
       "      <td>227</td>\n",
       "      <td>4</td>\n",
       "      <td>94</td>\n",
       "      <td>6</td>\n",
       "      <td>331</td>\n",
       "    </tr>\n",
       "    <tr>\n",
       "      <th>Total</th>\n",
       "      <td>542</td>\n",
       "      <td>12</td>\n",
       "      <td>457</td>\n",
       "      <td>27</td>\n",
       "      <td>1038</td>\n",
       "    </tr>\n",
       "  </tbody>\n",
       "</table>\n",
       "</div>"
      ],
      "text/plain": [
       "quadrant    1   2    3   4  Total\n",
       "mask                             \n",
       "0         315   8  363  21    707\n",
       "1         227   4   94   6    331\n",
       "Total     542  12  457  27   1038"
      ]
     },
     "execution_count": 17,
     "metadata": {},
     "output_type": "execute_result"
    }
   ],
   "source": [
    "pd.crosstab(df['mask'], df['quadrant'], margins=True, margins_name='Total')"
   ]
  },
  {
   "cell_type": "code",
   "execution_count": 18,
   "id": "c7b55650-a183-4f04-85f8-e1afb6a649d0",
   "metadata": {},
   "outputs": [
    {
     "data": {
      "image/png": "[encoded data removed]",
      "text/plain": [
       "<Figure size 640x480 with 1 Axes>"
      ]
     },
     "metadata": {},
     "output_type": "display_data"
    }
   ],
   "source": [
    "pd.crosstab(df['mask'], df['quadrant'], normalize='index').plot.bar(stacked=True)\n",
    "plt.show()"
   ]
  },
  {
   "cell_type": "markdown",
   "id": "1fd7bfe2-2260-43fb-aac2-07b9f3509dcc",
   "metadata": {},
   "source": [
    "#### Most no-mask detections were found in quadrant 1"
   ]
  },
  {
   "cell_type": "markdown",
   "id": "95eaa973-9dce-45a1-a430-f2aeb2c8ae57",
   "metadata": {},
   "source": [
    "- Quadrant 1 contains 542/1038 ~ 52% of records"
   ]
  },
  {
   "cell_type": "code",
   "execution_count": 19,
   "id": "28561d0d-5c0d-4a9b-b4a9-2ef8e4a5e77a",
   "metadata": {},
   "outputs": [
    {
     "data": {
      "text/html": [
       "<div>\n",
       "<style scoped>\n",
       "    .dataframe tbody tr th:only-of-type {\n",
       "        vertical-align: middle;\n",
       "    }\n",
       "\n",
       "    .dataframe tbody tr th {\n",
       "        vertical-align: top;\n",
       "    }\n",
       "\n",
       "    .dataframe thead th {\n",
       "        text-align: right;\n",
       "    }\n",
       "</style>\n",
       "<table border=\"1\" class=\"dataframe\">\n",
       "  <thead>\n",
       "    <tr style=\"text-align: right;\">\n",
       "      <th></th>\n",
       "      <th>Metric</th>\n",
       "      <th>Score</th>\n",
       "      <th>Lower bound</th>\n",
       "      <th>Upper bound</th>\n",
       "      <th>Error</th>\n",
       "      <th>df</th>\n",
       "    </tr>\n",
       "  </thead>\n",
       "  <tbody>\n",
       "    <tr>\n",
       "      <th>0</th>\n",
       "      <td>sensitivity</td>\n",
       "      <td>0.4776</td>\n",
       "      <td>0.4322</td>\n",
       "      <td>0.5314</td>\n",
       "      <td>(0.0454, 0.0538)</td>\n",
       "      <td>Q1</td>\n",
       "    </tr>\n",
       "    <tr>\n",
       "      <th>1</th>\n",
       "      <td>specificity</td>\n",
       "      <td>0.8636</td>\n",
       "      <td>0.7902</td>\n",
       "      <td>0.9274</td>\n",
       "      <td>(0.0734, 0.0638)</td>\n",
       "      <td>Q1</td>\n",
       "    </tr>\n",
       "    <tr>\n",
       "      <th>2</th>\n",
       "      <td>accuracy</td>\n",
       "      <td>0.5412</td>\n",
       "      <td>0.4989</td>\n",
       "      <td>0.5769</td>\n",
       "      <td>(0.0423, 0.0357)</td>\n",
       "      <td>Q1</td>\n",
       "    </tr>\n",
       "    <tr>\n",
       "      <th>3</th>\n",
       "      <td>precision</td>\n",
       "      <td>0.9467</td>\n",
       "      <td>0.9139</td>\n",
       "      <td>0.9735</td>\n",
       "      <td>(0.0328, 0.0268)</td>\n",
       "      <td>Q1</td>\n",
       "    </tr>\n",
       "    <tr>\n",
       "      <th>4</th>\n",
       "      <td>recall</td>\n",
       "      <td>0.4776</td>\n",
       "      <td>0.4350</td>\n",
       "      <td>0.5164</td>\n",
       "      <td>(0.0426, 0.0388)</td>\n",
       "      <td>Q1</td>\n",
       "    </tr>\n",
       "    <tr>\n",
       "      <th>5</th>\n",
       "      <td>f1</td>\n",
       "      <td>0.6349</td>\n",
       "      <td>0.5833</td>\n",
       "      <td>0.6779</td>\n",
       "      <td>(0.0516, 0.043)</td>\n",
       "      <td>Q1</td>\n",
       "    </tr>\n",
       "  </tbody>\n",
       "</table>\n",
       "</div>"
      ],
      "text/plain": [
       "        Metric   Score  Lower bound  Upper bound             Error  df\n",
       "0  sensitivity  0.4776       0.4322       0.5314  (0.0454, 0.0538)  Q1\n",
       "1  specificity  0.8636       0.7902       0.9274  (0.0734, 0.0638)  Q1\n",
       "2     accuracy  0.5412       0.4989       0.5769  (0.0423, 0.0357)  Q1\n",
       "3    precision  0.9467       0.9139       0.9735  (0.0328, 0.0268)  Q1\n",
       "4       recall  0.4776       0.4350       0.5164  (0.0426, 0.0388)  Q1\n",
       "5           f1  0.6349       0.5833       0.6779   (0.0516, 0.043)  Q1"
      ]
     },
     "execution_count": 19,
     "metadata": {},
     "output_type": "execute_result"
    }
   ],
   "source": [
    "df_q1 = df_filtered[df_filtered['quadrant'] == 1]\n",
    "metrics_df_q1 = get_bootstrapping_ci(df_q1)\n",
    "metrics_df_q1['df'] = 'Q1'\n",
    "df_groups.append(metrics_df_q1)\n",
    "\n",
    "metrics_df_q1"
   ]
  },
  {
   "cell_type": "markdown",
   "id": "d074e734-dd37-434f-9461-9d14fd9ff878",
   "metadata": {},
   "source": [
    "#### Most mask detections were found in quadrant 3"
   ]
  },
  {
   "cell_type": "markdown",
   "id": "0948ca8b-881d-4c58-bde1-e19fddf5d038",
   "metadata": {},
   "source": [
    "- Quadrant 3 contains 457/1038 ~ 44% of records"
   ]
  },
  {
   "cell_type": "code",
   "execution_count": 20,
   "id": "1806f62d-d8d4-4ffc-af94-70cdc7522b54",
   "metadata": {},
   "outputs": [
    {
     "data": {
      "text/html": [
       "<div>\n",
       "<style scoped>\n",
       "    .dataframe tbody tr th:only-of-type {\n",
       "        vertical-align: middle;\n",
       "    }\n",
       "\n",
       "    .dataframe tbody tr th {\n",
       "        vertical-align: top;\n",
       "    }\n",
       "\n",
       "    .dataframe thead th {\n",
       "        text-align: right;\n",
       "    }\n",
       "</style>\n",
       "<table border=\"1\" class=\"dataframe\">\n",
       "  <thead>\n",
       "    <tr style=\"text-align: right;\">\n",
       "      <th></th>\n",
       "      <th>Metric</th>\n",
       "      <th>Score</th>\n",
       "      <th>Lower bound</th>\n",
       "      <th>Upper bound</th>\n",
       "      <th>Error</th>\n",
       "      <th>df</th>\n",
       "    </tr>\n",
       "  </thead>\n",
       "  <tbody>\n",
       "    <tr>\n",
       "      <th>0</th>\n",
       "      <td>sensitivity</td>\n",
       "      <td>0.1786</td>\n",
       "      <td>0.1103</td>\n",
       "      <td>0.2520</td>\n",
       "      <td>(0.0683, 0.0734)</td>\n",
       "      <td>Q3</td>\n",
       "    </tr>\n",
       "    <tr>\n",
       "      <th>1</th>\n",
       "      <td>specificity</td>\n",
       "      <td>0.7827</td>\n",
       "      <td>0.7407</td>\n",
       "      <td>0.8136</td>\n",
       "      <td>(0.042, 0.0309)</td>\n",
       "      <td>Q3</td>\n",
       "    </tr>\n",
       "    <tr>\n",
       "      <th>2</th>\n",
       "      <td>accuracy</td>\n",
       "      <td>0.6682</td>\n",
       "      <td>0.6140</td>\n",
       "      <td>0.7044</td>\n",
       "      <td>(0.0542, 0.0362)</td>\n",
       "      <td>Q3</td>\n",
       "    </tr>\n",
       "    <tr>\n",
       "      <th>3</th>\n",
       "      <td>precision</td>\n",
       "      <td>0.1613</td>\n",
       "      <td>0.0852</td>\n",
       "      <td>0.2270</td>\n",
       "      <td>(0.0761, 0.0657)</td>\n",
       "      <td>Q3</td>\n",
       "    </tr>\n",
       "    <tr>\n",
       "      <th>4</th>\n",
       "      <td>recall</td>\n",
       "      <td>0.1786</td>\n",
       "      <td>0.1088</td>\n",
       "      <td>0.2584</td>\n",
       "      <td>(0.0698, 0.0798)</td>\n",
       "      <td>Q3</td>\n",
       "    </tr>\n",
       "    <tr>\n",
       "      <th>5</th>\n",
       "      <td>f1</td>\n",
       "      <td>0.1695</td>\n",
       "      <td>0.0792</td>\n",
       "      <td>0.2266</td>\n",
       "      <td>(0.0903, 0.0571)</td>\n",
       "      <td>Q3</td>\n",
       "    </tr>\n",
       "  </tbody>\n",
       "</table>\n",
       "</div>"
      ],
      "text/plain": [
       "        Metric   Score  Lower bound  Upper bound             Error  df\n",
       "0  sensitivity  0.1786       0.1103       0.2520  (0.0683, 0.0734)  Q3\n",
       "1  specificity  0.7827       0.7407       0.8136   (0.042, 0.0309)  Q3\n",
       "2     accuracy  0.6682       0.6140       0.7044  (0.0542, 0.0362)  Q3\n",
       "3    precision  0.1613       0.0852       0.2270  (0.0761, 0.0657)  Q3\n",
       "4       recall  0.1786       0.1088       0.2584  (0.0698, 0.0798)  Q3\n",
       "5           f1  0.1695       0.0792       0.2266  (0.0903, 0.0571)  Q3"
      ]
     },
     "execution_count": 20,
     "metadata": {},
     "output_type": "execute_result"
    }
   ],
   "source": [
    "df_q3 = df_filtered[df_filtered['quadrant'] == 3]\n",
    "metrics_df_q3 = get_bootstrapping_ci(df_q3)\n",
    "metrics_df_q3['df'] = 'Q3'\n",
    "df_groups.append(metrics_df_q3)\n",
    "\n",
    "metrics_df_q3"
   ]
  },
  {
   "cell_type": "markdown",
   "id": "991b3e21-c4e5-43c8-a2cc-d6cda56c15fc",
   "metadata": {},
   "source": [
    "## Comparing metric scores across groups"
   ]
  },
  {
   "cell_type": "code",
   "execution_count": 21,
   "id": "7a1078f7-36c1-45e5-9d86-38a0a5924e81",
   "metadata": {},
   "outputs": [
    {
     "data": {
      "text/html": [
       "<div>\n",
       "<style scoped>\n",
       "    .dataframe tbody tr th:only-of-type {\n",
       "        vertical-align: middle;\n",
       "    }\n",
       "\n",
       "    .dataframe tbody tr th {\n",
       "        vertical-align: top;\n",
       "    }\n",
       "\n",
       "    .dataframe thead th {\n",
       "        text-align: right;\n",
       "    }\n",
       "</style>\n",
       "<table border=\"1\" class=\"dataframe\">\n",
       "  <thead>\n",
       "    <tr style=\"text-align: right;\">\n",
       "      <th></th>\n",
       "      <th>Metric</th>\n",
       "      <th>Score</th>\n",
       "      <th>Lower bound</th>\n",
       "      <th>Upper bound</th>\n",
       "      <th>Error</th>\n",
       "      <th>df</th>\n",
       "    </tr>\n",
       "  </thead>\n",
       "  <tbody>\n",
       "    <tr>\n",
       "      <th>0</th>\n",
       "      <td>sensitivity</td>\n",
       "      <td>0.4302</td>\n",
       "      <td>0.3891</td>\n",
       "      <td>0.4720</td>\n",
       "      <td>(0.0411, 0.0418)</td>\n",
       "      <td>All</td>\n",
       "    </tr>\n",
       "    <tr>\n",
       "      <th>1</th>\n",
       "      <td>specificity</td>\n",
       "      <td>0.7987</td>\n",
       "      <td>0.7564</td>\n",
       "      <td>0.8354</td>\n",
       "      <td>(0.0423, 0.0367)</td>\n",
       "      <td>All</td>\n",
       "    </tr>\n",
       "    <tr>\n",
       "      <th>2</th>\n",
       "      <td>accuracy</td>\n",
       "      <td>0.5988</td>\n",
       "      <td>0.5613</td>\n",
       "      <td>0.6214</td>\n",
       "      <td>(0.0375, 0.0226)</td>\n",
       "      <td>All</td>\n",
       "    </tr>\n",
       "    <tr>\n",
       "      <th>3</th>\n",
       "      <td>precision</td>\n",
       "      <td>0.7170</td>\n",
       "      <td>0.6705</td>\n",
       "      <td>0.7622</td>\n",
       "      <td>(0.0465, 0.0452)</td>\n",
       "      <td>All</td>\n",
       "    </tr>\n",
       "    <tr>\n",
       "      <th>4</th>\n",
       "      <td>recall</td>\n",
       "      <td>0.4302</td>\n",
       "      <td>0.3957</td>\n",
       "      <td>0.4750</td>\n",
       "      <td>(0.0345, 0.0448)</td>\n",
       "      <td>All</td>\n",
       "    </tr>\n",
       "    <tr>\n",
       "      <th>5</th>\n",
       "      <td>f1</td>\n",
       "      <td>0.5377</td>\n",
       "      <td>0.5050</td>\n",
       "      <td>0.5774</td>\n",
       "      <td>(0.0327, 0.0397)</td>\n",
       "      <td>All</td>\n",
       "    </tr>\n",
       "    <tr>\n",
       "      <th>6</th>\n",
       "      <td>sensitivity</td>\n",
       "      <td>0.4776</td>\n",
       "      <td>0.4322</td>\n",
       "      <td>0.5314</td>\n",
       "      <td>(0.0454, 0.0538)</td>\n",
       "      <td>Q1</td>\n",
       "    </tr>\n",
       "    <tr>\n",
       "      <th>7</th>\n",
       "      <td>specificity</td>\n",
       "      <td>0.8636</td>\n",
       "      <td>0.7902</td>\n",
       "      <td>0.9274</td>\n",
       "      <td>(0.0734, 0.0638)</td>\n",
       "      <td>Q1</td>\n",
       "    </tr>\n",
       "    <tr>\n",
       "      <th>8</th>\n",
       "      <td>accuracy</td>\n",
       "      <td>0.5412</td>\n",
       "      <td>0.4989</td>\n",
       "      <td>0.5769</td>\n",
       "      <td>(0.0423, 0.0357)</td>\n",
       "      <td>Q1</td>\n",
       "    </tr>\n",
       "    <tr>\n",
       "      <th>9</th>\n",
       "      <td>precision</td>\n",
       "      <td>0.9467</td>\n",
       "      <td>0.9139</td>\n",
       "      <td>0.9735</td>\n",
       "      <td>(0.0328, 0.0268)</td>\n",
       "      <td>Q1</td>\n",
       "    </tr>\n",
       "    <tr>\n",
       "      <th>10</th>\n",
       "      <td>recall</td>\n",
       "      <td>0.4776</td>\n",
       "      <td>0.4350</td>\n",
       "      <td>0.5164</td>\n",
       "      <td>(0.0426, 0.0388)</td>\n",
       "      <td>Q1</td>\n",
       "    </tr>\n",
       "    <tr>\n",
       "      <th>11</th>\n",
       "      <td>f1</td>\n",
       "      <td>0.6349</td>\n",
       "      <td>0.5833</td>\n",
       "      <td>0.6779</td>\n",
       "      <td>(0.0516, 0.043)</td>\n",
       "      <td>Q1</td>\n",
       "    </tr>\n",
       "    <tr>\n",
       "      <th>12</th>\n",
       "      <td>sensitivity</td>\n",
       "      <td>0.1786</td>\n",
       "      <td>0.1103</td>\n",
       "      <td>0.2520</td>\n",
       "      <td>(0.0683, 0.0734)</td>\n",
       "      <td>Q3</td>\n",
       "    </tr>\n",
       "    <tr>\n",
       "      <th>13</th>\n",
       "      <td>specificity</td>\n",
       "      <td>0.7827</td>\n",
       "      <td>0.7407</td>\n",
       "      <td>0.8136</td>\n",
       "      <td>(0.042, 0.0309)</td>\n",
       "      <td>Q3</td>\n",
       "    </tr>\n",
       "    <tr>\n",
       "      <th>14</th>\n",
       "      <td>accuracy</td>\n",
       "      <td>0.6682</td>\n",
       "      <td>0.6140</td>\n",
       "      <td>0.7044</td>\n",
       "      <td>(0.0542, 0.0362)</td>\n",
       "      <td>Q3</td>\n",
       "    </tr>\n",
       "    <tr>\n",
       "      <th>15</th>\n",
       "      <td>precision</td>\n",
       "      <td>0.1613</td>\n",
       "      <td>0.0852</td>\n",
       "      <td>0.2270</td>\n",
       "      <td>(0.0761, 0.0657)</td>\n",
       "      <td>Q3</td>\n",
       "    </tr>\n",
       "    <tr>\n",
       "      <th>16</th>\n",
       "      <td>recall</td>\n",
       "      <td>0.1786</td>\n",
       "      <td>0.1088</td>\n",
       "      <td>0.2584</td>\n",
       "      <td>(0.0698, 0.0798)</td>\n",
       "      <td>Q3</td>\n",
       "    </tr>\n",
       "    <tr>\n",
       "      <th>17</th>\n",
       "      <td>f1</td>\n",
       "      <td>0.1695</td>\n",
       "      <td>0.0792</td>\n",
       "      <td>0.2266</td>\n",
       "      <td>(0.0903, 0.0571)</td>\n",
       "      <td>Q3</td>\n",
       "    </tr>\n",
       "  </tbody>\n",
       "</table>\n",
       "</div>"
      ],
      "text/plain": [
       "         Metric   Score  Lower bound  Upper bound             Error   df\n",
       "0   sensitivity  0.4302       0.3891       0.4720  (0.0411, 0.0418)  All\n",
       "1   specificity  0.7987       0.7564       0.8354  (0.0423, 0.0367)  All\n",
       "2      accuracy  0.5988       0.5613       0.6214  (0.0375, 0.0226)  All\n",
       "3     precision  0.7170       0.6705       0.7622  (0.0465, 0.0452)  All\n",
       "4        recall  0.4302       0.3957       0.4750  (0.0345, 0.0448)  All\n",
       "5            f1  0.5377       0.5050       0.5774  (0.0327, 0.0397)  All\n",
       "6   sensitivity  0.4776       0.4322       0.5314  (0.0454, 0.0538)   Q1\n",
       "7   specificity  0.8636       0.7902       0.9274  (0.0734, 0.0638)   Q1\n",
       "8      accuracy  0.5412       0.4989       0.5769  (0.0423, 0.0357)   Q1\n",
       "9     precision  0.9467       0.9139       0.9735  (0.0328, 0.0268)   Q1\n",
       "10       recall  0.4776       0.4350       0.5164  (0.0426, 0.0388)   Q1\n",
       "11           f1  0.6349       0.5833       0.6779   (0.0516, 0.043)   Q1\n",
       "12  sensitivity  0.1786       0.1103       0.2520  (0.0683, 0.0734)   Q3\n",
       "13  specificity  0.7827       0.7407       0.8136   (0.042, 0.0309)   Q3\n",
       "14     accuracy  0.6682       0.6140       0.7044  (0.0542, 0.0362)   Q3\n",
       "15    precision  0.1613       0.0852       0.2270  (0.0761, 0.0657)   Q3\n",
       "16       recall  0.1786       0.1088       0.2584  (0.0698, 0.0798)   Q3\n",
       "17           f1  0.1695       0.0792       0.2266  (0.0903, 0.0571)   Q3"
      ]
     },
     "execution_count": 21,
     "metadata": {},
     "output_type": "execute_result"
    }
   ],
   "source": [
    "df_concat = pd.concat(df_groups, ignore_index=True)\n",
    "df_concat"
   ]
  },
  {
   "cell_type": "code",
   "execution_count": 22,
   "id": "c93cb1db-07c1-4047-89cf-7f5bb0839d92",
   "metadata": {},
   "outputs": [
    {
     "data": {
      "image/png": "[encoded data removed]",
      "text/plain": [
       "<Figure size 1000x1000 with 6 Axes>"
      ]
     },
     "metadata": {},
     "output_type": "display_data"
    }
   ],
   "source": [
    "fig, ax = plt.subplots(3, 2, figsize=(10, 10))\n",
    "axs = np.array(ax).flatten()\n",
    "i = 0\n",
    "\n",
    "for metric in metric_functions:\n",
    "    df_metric = df_concat[df_concat['Metric'] == metric]\n",
    "    df_metric.reset_index(drop=True, inplace=True)\n",
    "    \n",
    "    sns.barplot(data=df_metric, x='df', y='Score', alpha=0.1, ax=axs[i])\n",
    "    y_error = np.array(list(df_metric['Error'])).T\n",
    "    axs[i].errorbar(x=df_metric.index, y=df_metric['Score'], yerr=y_error, fmt='o', ecolor='black', color='black', capsize=6)\n",
    "    \n",
    "    axs[i].set_xlabel('')\n",
    "    axs[i].set_ylabel(metric, fontweight='bold')\n",
    "    i += 1\n",
    "    \n",
    "plt.show()"
   ]
  },
  {
   "cell_type": "code",
   "execution_count": null,
   "id": "735306ce-a36f-4f9f-9e20-1b90c3fd2a56",
   "metadata": {},
   "outputs": [],
   "source": []
  }
 ],
 "metadata": {
  "kernelspec": {
   "display_name": "mask-detection",
   "language": "python",
   "name": "mask-detection"
  },
  "language_info": {
   "codemirror_mode": {
    "name": "ipython",
    "version": 3
   },
   "file_extension": ".py",
   "mimetype": "text/x-python",
   "name": "python",
   "nbconvert_exporter": "python",
   "pygments_lexer": "ipython3",
   "version": "3.10.8"
  },
  "toc-autonumbering": false,
  "toc-showcode": false,
  "toc-showmarkdowntxt": false
 },
 "nbformat": 4,
 "nbformat_minor": 5
}
