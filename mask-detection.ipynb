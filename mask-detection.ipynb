{
 "cells": [
  {
   "cell_type": "markdown",
   "id": "b4aaab4b-a20e-44df-924e-d82f8a25fdba",
   "metadata": {
    "tags": []
   },
   "source": [
    "### Week 1\n",
    "\n",
    "- calculate performance metrics of the model output compared to the truth values "
   ]
  },
  {
   "cell_type": "code",
   "execution_count": 141,
   "id": "de001a83-5fb1-4da8-b691-43493bc83c02",
   "metadata": {},
   "outputs": [],
   "source": [
    "import numpy as np\n",
    "from scipy import stats\n",
    "import pandas as pd\n",
    "import matplotlib.pyplot as plt\n",
    "import seaborn as sns\n",
    "\n",
    "\n",
    "sns.set_style(\"darkgrid\")"
   ]
  },
  {
   "cell_type": "code",
   "execution_count": 142,
   "id": "b33a1686-addd-4d75-bed5-f610c4e86329",
   "metadata": {},
   "outputs": [
    {
     "data": {
      "text/html": [
       "<div>\n",
       "<style scoped>\n",
       "    .dataframe tbody tr th:only-of-type {\n",
       "        vertical-align: middle;\n",
       "    }\n",
       "\n",
       "    .dataframe tbody tr th {\n",
       "        vertical-align: top;\n",
       "    }\n",
       "\n",
       "    .dataframe thead th {\n",
       "        text-align: right;\n",
       "    }\n",
       "</style>\n",
       "<table border=\"1\" class=\"dataframe\">\n",
       "  <thead>\n",
       "    <tr style=\"text-align: right;\">\n",
       "      <th></th>\n",
       "      <th>file</th>\n",
       "      <th>x1</th>\n",
       "      <th>x2</th>\n",
       "      <th>y1</th>\n",
       "      <th>y2</th>\n",
       "      <th>mask</th>\n",
       "      <th>date</th>\n",
       "      <th>start_time</th>\n",
       "      <th>frame no</th>\n",
       "      <th>quadrant</th>\n",
       "      <th>true_mask</th>\n",
       "    </tr>\n",
       "  </thead>\n",
       "  <tbody>\n",
       "    <tr>\n",
       "      <th>0</th>\n",
       "      <td>park-tests/converted/coverted_FRAMES/20210526_...</td>\n",
       "      <td>720</td>\n",
       "      <td>763</td>\n",
       "      <td>185</td>\n",
       "      <td>246</td>\n",
       "      <td>0</td>\n",
       "      <td>20210526</td>\n",
       "      <td>182313</td>\n",
       "      <td>1248</td>\n",
       "      <td>3</td>\n",
       "      <td>0</td>\n",
       "    </tr>\n",
       "    <tr>\n",
       "      <th>1</th>\n",
       "      <td>park-tests/converted/coverted_FRAMES/20210526_...</td>\n",
       "      <td>13</td>\n",
       "      <td>40</td>\n",
       "      <td>3</td>\n",
       "      <td>40</td>\n",
       "      <td>1</td>\n",
       "      <td>20210526</td>\n",
       "      <td>182313</td>\n",
       "      <td>4876</td>\n",
       "      <td>3</td>\n",
       "      <td>1</td>\n",
       "    </tr>\n",
       "    <tr>\n",
       "      <th>2</th>\n",
       "      <td>park-tests/converted/coverted_FRAMES/20210526_...</td>\n",
       "      <td>695</td>\n",
       "      <td>736</td>\n",
       "      <td>201</td>\n",
       "      <td>254</td>\n",
       "      <td>0</td>\n",
       "      <td>20210526</td>\n",
       "      <td>182313</td>\n",
       "      <td>4876</td>\n",
       "      <td>3</td>\n",
       "      <td>0</td>\n",
       "    </tr>\n",
       "    <tr>\n",
       "      <th>3</th>\n",
       "      <td>park-tests/converted/coverted_FRAMES/20210526_...</td>\n",
       "      <td>573</td>\n",
       "      <td>663</td>\n",
       "      <td>326</td>\n",
       "      <td>430</td>\n",
       "      <td>1</td>\n",
       "      <td>20210526</td>\n",
       "      <td>182313</td>\n",
       "      <td>4397</td>\n",
       "      <td>1</td>\n",
       "      <td>1</td>\n",
       "    </tr>\n",
       "    <tr>\n",
       "      <th>4</th>\n",
       "      <td>park-tests/converted/coverted_FRAMES/20210526_...</td>\n",
       "      <td>893</td>\n",
       "      <td>973</td>\n",
       "      <td>346</td>\n",
       "      <td>452</td>\n",
       "      <td>1</td>\n",
       "      <td>20210526</td>\n",
       "      <td>182313</td>\n",
       "      <td>4397</td>\n",
       "      <td>1</td>\n",
       "      <td>1</td>\n",
       "    </tr>\n",
       "  </tbody>\n",
       "</table>\n",
       "</div>"
      ],
      "text/plain": [
       "                                                file   x1   x2   y1   y2  \\\n",
       "0  park-tests/converted/coverted_FRAMES/20210526_...  720  763  185  246   \n",
       "1  park-tests/converted/coverted_FRAMES/20210526_...   13   40    3   40   \n",
       "2  park-tests/converted/coverted_FRAMES/20210526_...  695  736  201  254   \n",
       "3  park-tests/converted/coverted_FRAMES/20210526_...  573  663  326  430   \n",
       "4  park-tests/converted/coverted_FRAMES/20210526_...  893  973  346  452   \n",
       "\n",
       "   mask      date  start_time  frame no  quadrant  true_mask  \n",
       "0     0  20210526      182313      1248         3          0  \n",
       "1     1  20210526      182313      4876         3          1  \n",
       "2     0  20210526      182313      4876         3          0  \n",
       "3     1  20210526      182313      4397         1          1  \n",
       "4     1  20210526      182313      4397         1          1  "
      ]
     },
     "execution_count": 142,
     "metadata": {},
     "output_type": "execute_result"
    }
   ],
   "source": [
    "df = pd.read_csv(\"helena_results.csv\")\n",
    "df.head()"
   ]
  },
  {
   "cell_type": "code",
   "execution_count": 143,
   "id": "fc8a87f5-b8f7-4de4-8989-806229317e1c",
   "metadata": {},
   "outputs": [
    {
     "name": "stdout",
     "output_type": "stream",
     "text": [
      "<class 'pandas.core.frame.DataFrame'>\n",
      "RangeIndex: 1038 entries, 0 to 1037\n",
      "Data columns (total 11 columns):\n",
      " #   Column      Non-Null Count  Dtype \n",
      "---  ------      --------------  ----- \n",
      " 0   file        1038 non-null   object\n",
      " 1   x1          1038 non-null   int64 \n",
      " 2   x2          1038 non-null   int64 \n",
      " 3   y1          1038 non-null   int64 \n",
      " 4   y2          1038 non-null   int64 \n",
      " 5   mask        1038 non-null   int64 \n",
      " 6   date        1038 non-null   int64 \n",
      " 7   start_time  1038 non-null   int64 \n",
      " 8   frame no    1038 non-null   int64 \n",
      " 9   quadrant    1038 non-null   int64 \n",
      " 10  true_mask   1038 non-null   int64 \n",
      "dtypes: int64(10), object(1)\n",
      "memory usage: 89.3+ KB\n"
     ]
    }
   ],
   "source": [
    "df.info()"
   ]
  },
  {
   "cell_type": "markdown",
   "id": "921a7b50-041e-47ae-a447-be9ecf98194c",
   "metadata": {},
   "source": [
    "#### Definitions\n",
    "mask: model output\n",
    "\n",
    "true_mask: true label (human labeled)\n",
    "\n",
    "- 0: mask\n",
    "- 1: no mask\n",
    "- 2: false detection\n",
    "\n",
    "A false detection describes an instance where the model detected the ground, or other object, as a face."
   ]
  },
  {
   "cell_type": "code",
   "execution_count": 144,
   "id": "88acfea7-fafa-4c80-a4ef-44b4c0838351",
   "metadata": {},
   "outputs": [
    {
     "data": {
      "text/plain": [
       "0    707\n",
       "1    331\n",
       "Name: mask, dtype: int64"
      ]
     },
     "execution_count": 144,
     "metadata": {},
     "output_type": "execute_result"
    }
   ],
   "source": [
    "df['mask'].value_counts()"
   ]
  },
  {
   "cell_type": "code",
   "execution_count": 145,
   "id": "62d54541-af35-4df9-a9cf-31e3d61a0518",
   "metadata": {},
   "outputs": [
    {
     "data": {
      "text/plain": [
       "1    530\n",
       "0    447\n",
       "2     61\n",
       "Name: true_mask, dtype: int64"
      ]
     },
     "execution_count": 145,
     "metadata": {},
     "output_type": "execute_result"
    }
   ],
   "source": [
    "df['true_mask'].value_counts()"
   ]
  },
  {
   "cell_type": "markdown",
   "id": "e3458faa-a04a-489b-b3f8-61455d31c4ed",
   "metadata": {},
   "source": [
    "#### Metrics and Scoring"
   ]
  },
  {
   "cell_type": "code",
   "execution_count": 146,
   "id": "95b51ca2-101f-47e5-a115-65e33f300c69",
   "metadata": {},
   "outputs": [
    {
     "data": {
      "text/plain": [
       "(977, 11)"
      ]
     },
     "execution_count": 146,
     "metadata": {},
     "output_type": "execute_result"
    }
   ],
   "source": [
    "from sklearn.metrics import confusion_matrix, accuracy_score, precision_score, recall_score, f1_score\n",
    "\n",
    "# exclude false detections from this analysis\n",
    "df2 = df[df['true_mask'] < 2]\n",
    "\n",
    "df2.shape"
   ]
  },
  {
   "cell_type": "code",
   "execution_count": 147,
   "id": "fe0045b2-9f4f-4abd-b6e3-ded6b9f6d618",
   "metadata": {},
   "outputs": [],
   "source": [
    "# store the true and predicted labels into variables for metric calculations\n",
    "mask_true = df2['true_mask']\n",
    "mask_pred = df2['mask']"
   ]
  },
  {
   "cell_type": "code",
   "execution_count": 148,
   "id": "e6159389-93a0-47ac-bfac-1dacef101909",
   "metadata": {},
   "outputs": [],
   "source": [
    "def sensitivity(y_true, y_pred):\n",
    "    tn, fp, fn, tp = confusion_matrix(y_true, y_pred).ravel()\n",
    "    return tp/(tp+fn)\n",
    "\n",
    "def specificity(y_true, y_pred):\n",
    "    tn, fp, fn, tp = confusion_matrix(y_true, y_pred).ravel()\n",
    "    return tn/(tn+fp)\n",
    "\n",
    "def ppv(y_true, y_pred):\n",
    "    tn, fp, fn, tp = confusion_matrix(y_true, y_pred).ravel()\n",
    "    return tp/(tp+fp)\n",
    "\n",
    "def npv(y_true, y_pred):\n",
    "    tn, fp, fn, tp = confusion_matrix(y_true, y_pred).ravel()\n",
    "    return tn/(fn+tn)"
   ]
  },
  {
   "cell_type": "code",
   "execution_count": 149,
   "id": "939e6be2-f814-46bb-9c5d-1dc418bde700",
   "metadata": {},
   "outputs": [
    {
     "name": "stdout",
     "output_type": "stream",
     "text": [
      "accuracy score: 0.5988\n",
      "precision score: 0.717\n",
      "recall score: 0.4302\n",
      "f1 score: 0.5377\n",
      "sensitivity score: 0.4302\n",
      "specificity score: 0.7987\n",
      "ppv score: 0.717\n",
      "npv score: 0.5417\n"
     ]
    }
   ],
   "source": [
    "metric_functions = {'accuracy': accuracy_score, \n",
    "                    'precision': precision_score,\n",
    "                    'recall': recall_score,\n",
    "                    'f1': f1_score,\n",
    "                    'sensitivity': sensitivity, \n",
    "                    'specificity': specificity,\n",
    "                    'ppv': ppv,\n",
    "                    'npv': npv}\n",
    "\n",
    "metric_values = {}\n",
    "\n",
    "for metric in metric_functions:\n",
    "    score = metric_functions[metric](y_true=mask_true, y_pred=mask_pred)\n",
    "    print(f'{metric} score: {round(score, 4)}')\n",
    "    metric_values[metric] = round(score, 4)"
   ]
  },
  {
   "cell_type": "markdown",
   "id": "b85d0eaf-04ef-47c9-b877-55a37182c7de",
   "metadata": {},
   "source": [
    "### Week 2\n",
    "\n",
    "- calculating confidence intervals around these numbers\n",
    "- two sample testing of accuracy metrics - testing specificity between different groups, p values \n",
    "- looking at different groups where the metrics are better/worse\n",
    "    - look for big spreads\n",
    "    \n",
    "- Nirmal - worked with Ted\n",
    "- Ted Morris (camera / robotics, etc)\n",
    "    - Camera has object detection capabilities\n",
    "- Helena - worked with Catherine Zhao\n",
    "    - Graduated and developed NN\n",
    "    \n",
    "- Catherine Zhao\n",
    "    - Reach out to Catherine for training data / model code\n",
    "    - Hoping to get access to the code / training data\n",
    "    - Willing to put them on github with prof wolfson"
   ]
  },
  {
   "cell_type": "markdown",
   "id": "bd7ce07e-6234-4116-b4b2-7a98f795f514",
   "metadata": {},
   "source": [
    "#### Exploration\n",
    "\n",
    "- explore rnn for image classification since it has a memory component and looks at multiple frames at once"
   ]
  },
  {
   "cell_type": "markdown",
   "id": "93e558f0-cb43-4085-a56b-649a6e827b0f",
   "metadata": {},
   "source": [
    "#### Calculating confidence intervals around the metrics"
   ]
  },
  {
   "cell_type": "code",
   "execution_count": 150,
   "id": "9b5547cd-9914-4fad-99f2-4852bf582ed3",
   "metadata": {},
   "outputs": [],
   "source": [
    "def confidence_interval_z_score(n, metric):\n",
    "    # standard error\n",
    "    se = np.sqrt(metric * (1-metric) / n)\n",
    "    \n",
    "    # z score for 95% confidence interval\n",
    "    z = stats.norm.ppf(0.975)\n",
    "    \n",
    "    lower = metric - z*se\n",
    "    upper = metric + z*se\n",
    "    \n",
    "    return (round(lower, 4), round(upper, 4))"
   ]
  },
  {
   "cell_type": "code",
   "execution_count": 151,
   "id": "f977f2cc-10e6-4869-a25b-53a844d410de",
   "metadata": {},
   "outputs": [
    {
     "name": "stdout",
     "output_type": "stream",
     "text": [
      "95% confidence interval for the accuracy of 0.5988 is: (0.569, 0.6286) \n",
      "\n",
      "95% confidence interval for the precision of 0.717 is: (0.6896, 0.7444) \n",
      "\n",
      "95% confidence interval for the recall of 0.4302 is: (0.4001, 0.4603) \n",
      "\n",
      "95% confidence interval for the f1 of 0.5377 is: (0.5074, 0.568) \n",
      "\n",
      "95% confidence interval for the sensitivity of 0.4302 is: (0.4001, 0.4603) \n",
      "\n",
      "95% confidence interval for the specificity of 0.7987 is: (0.7743, 0.8231) \n",
      "\n",
      "95% confidence interval for the ppv of 0.717 is: (0.6896, 0.7444) \n",
      "\n",
      "95% confidence interval for the npv of 0.5417 is: (0.5114, 0.572) \n",
      "\n"
     ]
    }
   ],
   "source": [
    "n = df.shape[0]\n",
    "for metric in metric_values:\n",
    "    metric_value = metric_values[metric]\n",
    "    ci = confidence_interval_z_score(n, metric_value)\n",
    "    print(f'95% confidence interval for the {metric} of {metric_value} is: {ci} \\n')"
   ]
  },
  {
   "cell_type": "code",
   "execution_count": 152,
   "id": "8f4e25cd-78aa-4073-b859-2fcc03c6c94c",
   "metadata": {},
   "outputs": [],
   "source": [
    "from sklearn.utils import resample\n",
    "\n",
    "def confidence_interval_bootstrapping(y_true, y_pred, metric_function, n_iterations=1000, alpha=0.05):\n",
    "    \n",
    "    metric_samples = []\n",
    "    \n",
    "    for i in range(n_iterations):\n",
    "        y_true_resample, y_pred_resample = resample(y_true, y_pred)\n",
    "        metric_resample = metric_function(y_true_resample, y_pred_resample)\n",
    "        metric_samples.append(metric_resample)\n",
    "        \n",
    "    lower = np.percentile(metric_samples, alpha/2*100)\n",
    "    upper = np.percentile(metric_samples, (1-alpha/2)*100)\n",
    "    \n",
    "    return (round(lower, 4), round(upper, 4))"
   ]
  },
  {
   "cell_type": "code",
   "execution_count": 153,
   "id": "4daddfb3-ad8d-4e25-837e-ca78140c15ca",
   "metadata": {},
   "outputs": [
    {
     "name": "stdout",
     "output_type": "stream",
     "text": [
      "95% confidence interval for the accuracy of 0.5988 is: (0.568, 0.6285) \n",
      "\n",
      "95% confidence interval for the precision of 0.717 is: (0.6656, 0.7674) \n",
      "\n",
      "95% confidence interval for the recall of 0.4302 is: (0.3904, 0.4712) \n",
      "\n",
      "95% confidence interval for the f1 of 0.5377 is: (0.4975, 0.576) \n",
      "\n",
      "95% confidence interval for the sensitivity of 0.4302 is: (0.3882, 0.469) \n",
      "\n",
      "95% confidence interval for the specificity of 0.7987 is: (0.7596, 0.8383) \n",
      "\n",
      "95% confidence interval for the ppv of 0.717 is: (0.6677, 0.7681) \n",
      "\n",
      "95% confidence interval for the npv of 0.5417 is: (0.5067, 0.5791) \n",
      "\n"
     ]
    }
   ],
   "source": [
    "metrics_ci = {'Metric': [],\n",
    "              'Score': [],\n",
    "              'Lower bound': [],\n",
    "              'Upper bound': [],\n",
    "              'Value': []}\n",
    "\n",
    "for metric in metric_functions:\n",
    "    metrics_ci['Metric'].append(metric)\n",
    "    \n",
    "    metric_value = metric_values[metric]\n",
    "    metrics_ci['Score'].append(metric_value)\n",
    "    \n",
    "    ci = confidence_interval_bootstrapping(mask_true, mask_pred, metric_functions[metric])\n",
    "    metrics_ci['Lower bound'].append(ci[0])\n",
    "    metrics_ci['Upper bound'].append(ci[1])\n",
    "    \n",
    "    metrics_ci['Value'].append([metric_value, ci[0], ci[1]])\n",
    "    \n",
    "    print(f'95% confidence interval for the {metric} of {metric_value} is: {ci} \\n')"
   ]
  },
  {
   "cell_type": "code",
   "execution_count": 154,
   "id": "e10414cc-b46f-498d-824a-9f27ceffc6e7",
   "metadata": {},
   "outputs": [
    {
     "data": {
      "text/html": [
       "<div>\n",
       "<style scoped>\n",
       "    .dataframe tbody tr th:only-of-type {\n",
       "        vertical-align: middle;\n",
       "    }\n",
       "\n",
       "    .dataframe tbody tr th {\n",
       "        vertical-align: top;\n",
       "    }\n",
       "\n",
       "    .dataframe thead th {\n",
       "        text-align: right;\n",
       "    }\n",
       "</style>\n",
       "<table border=\"1\" class=\"dataframe\">\n",
       "  <thead>\n",
       "    <tr style=\"text-align: right;\">\n",
       "      <th></th>\n",
       "      <th>Metric</th>\n",
       "      <th>Score</th>\n",
       "      <th>Lower bound</th>\n",
       "      <th>Upper bound</th>\n",
       "      <th>Value</th>\n",
       "    </tr>\n",
       "  </thead>\n",
       "  <tbody>\n",
       "    <tr>\n",
       "      <th>0</th>\n",
       "      <td>accuracy</td>\n",
       "      <td>0.5988</td>\n",
       "      <td>0.5680</td>\n",
       "      <td>0.6285</td>\n",
       "      <td>[0.5988, 0.568, 0.6285]</td>\n",
       "    </tr>\n",
       "    <tr>\n",
       "      <th>1</th>\n",
       "      <td>precision</td>\n",
       "      <td>0.7170</td>\n",
       "      <td>0.6656</td>\n",
       "      <td>0.7674</td>\n",
       "      <td>[0.717, 0.6656, 0.7674]</td>\n",
       "    </tr>\n",
       "    <tr>\n",
       "      <th>2</th>\n",
       "      <td>recall</td>\n",
       "      <td>0.4302</td>\n",
       "      <td>0.3904</td>\n",
       "      <td>0.4712</td>\n",
       "      <td>[0.4302, 0.3904, 0.4712]</td>\n",
       "    </tr>\n",
       "    <tr>\n",
       "      <th>3</th>\n",
       "      <td>f1</td>\n",
       "      <td>0.5377</td>\n",
       "      <td>0.4975</td>\n",
       "      <td>0.5760</td>\n",
       "      <td>[0.5377, 0.4975, 0.576]</td>\n",
       "    </tr>\n",
       "    <tr>\n",
       "      <th>4</th>\n",
       "      <td>sensitivity</td>\n",
       "      <td>0.4302</td>\n",
       "      <td>0.3882</td>\n",
       "      <td>0.4690</td>\n",
       "      <td>[0.4302, 0.3882, 0.469]</td>\n",
       "    </tr>\n",
       "    <tr>\n",
       "      <th>5</th>\n",
       "      <td>specificity</td>\n",
       "      <td>0.7987</td>\n",
       "      <td>0.7596</td>\n",
       "      <td>0.8383</td>\n",
       "      <td>[0.7987, 0.7596, 0.8383]</td>\n",
       "    </tr>\n",
       "    <tr>\n",
       "      <th>6</th>\n",
       "      <td>ppv</td>\n",
       "      <td>0.7170</td>\n",
       "      <td>0.6677</td>\n",
       "      <td>0.7681</td>\n",
       "      <td>[0.717, 0.6677, 0.7681]</td>\n",
       "    </tr>\n",
       "    <tr>\n",
       "      <th>7</th>\n",
       "      <td>npv</td>\n",
       "      <td>0.5417</td>\n",
       "      <td>0.5067</td>\n",
       "      <td>0.5791</td>\n",
       "      <td>[0.5417, 0.5067, 0.5791]</td>\n",
       "    </tr>\n",
       "  </tbody>\n",
       "</table>\n",
       "</div>"
      ],
      "text/plain": [
       "        Metric   Score  Lower bound  Upper bound                     Value\n",
       "0     accuracy  0.5988       0.5680       0.6285   [0.5988, 0.568, 0.6285]\n",
       "1    precision  0.7170       0.6656       0.7674   [0.717, 0.6656, 0.7674]\n",
       "2       recall  0.4302       0.3904       0.4712  [0.4302, 0.3904, 0.4712]\n",
       "3           f1  0.5377       0.4975       0.5760   [0.5377, 0.4975, 0.576]\n",
       "4  sensitivity  0.4302       0.3882       0.4690   [0.4302, 0.3882, 0.469]\n",
       "5  specificity  0.7987       0.7596       0.8383  [0.7987, 0.7596, 0.8383]\n",
       "6          ppv  0.7170       0.6677       0.7681   [0.717, 0.6677, 0.7681]\n",
       "7          npv  0.5417       0.5067       0.5791  [0.5417, 0.5067, 0.5791]"
      ]
     },
     "execution_count": 154,
     "metadata": {},
     "output_type": "execute_result"
    }
   ],
   "source": [
    "metrics_df = pd.DataFrame(metrics_ci)\n",
    "metrics_df"
   ]
  },
  {
   "cell_type": "code",
   "execution_count": 156,
   "id": "f8365df2-627e-4828-91d4-0cc293ec9f28",
   "metadata": {},
   "outputs": [
    {
     "data": {
      "image/png": "[encoded data removed]",
      "text/plain": [
       "<Figure size 1000x600 with 1 Axes>"
      ]
     },
     "metadata": {},
     "output_type": "display_data"
    }
   ],
   "source": [
    "plt.figure(figsize=(10,6))\n",
    "\n",
    "sns.barplot(data=metrics_df, x='Metric', y='Score', alpha=0.5)\n",
    "y_error = (metrics_df['Score']-metrics_df['Lower bound'], metrics_df['Upper bound']-metrics_df['Score'])\n",
    "plt.errorbar(x=metrics_df.index, y=metrics_df['Score'], yerr=y_error, fmt='o', ecolor='black', color='black', capsize=6)\n",
    "\n",
    "plt.title(\"Metrics and Confidence Intervals using Bootstrapping\")\n",
    "plt.show()"
   ]
  },
  {
   "cell_type": "code",
   "execution_count": null,
   "id": "0363dc77-954c-4522-982e-be503a8d15b9",
   "metadata": {},
   "outputs": [],
   "source": []
  }
 ],
 "metadata": {
  "kernelspec": {
   "display_name": "mask-detection",
   "language": "python",
   "name": "mask-detection"
  },
  "language_info": {
   "codemirror_mode": {
    "name": "ipython",
    "version": 3
   },
   "file_extension": ".py",
   "mimetype": "text/x-python",
   "name": "python",
   "nbconvert_exporter": "python",
   "pygments_lexer": "ipython3",
   "version": "3.10.8"
  }
 },
 "nbformat": 4,
 "nbformat_minor": 5
}
